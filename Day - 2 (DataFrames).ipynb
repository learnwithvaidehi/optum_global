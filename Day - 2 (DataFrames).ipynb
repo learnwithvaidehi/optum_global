{
 "cells": [
  {
   "cell_type": "markdown",
   "metadata": {
    "id": "rGBb_xPwaQpK"
   },
   "source": [
    "# Introduction to Pandas Library\n",
    "- Pandas is an open source library in python which is know for its rich applications and utilities for all kinds of mathematical, financial and statistical functions\n",
    "- It is useful in data manipulation and analysis\n",
    "- It provides fast, flexible, and expressive data structures designed to make working with structured (tabular, multidimensional, potentially heterogeneous) and time series data\n",
    "\n"
   ]
  },
  {
   "cell_type": "markdown",
   "metadata": {
    "id": "QW77jDdEaQpK"
   },
   "source": [
    "#### Installing pandas"
   ]
  },
  {
   "cell_type": "code",
   "execution_count": null,
   "metadata": {
    "id": "A0uzVwWXaQpK"
   },
   "outputs": [],
   "source": [
    "!pip install pandas"
   ]
  },
  {
   "cell_type": "markdown",
   "metadata": {
    "id": "P-V030TIaQpL"
   },
   "source": [
    "#### Importing pandas"
   ]
  },
  {
   "cell_type": "code",
   "execution_count": null,
   "metadata": {
    "id": "1OwVfG7eaQpX"
   },
   "outputs": [],
   "source": [
    "import pandas as pd\n",
    "import numpy as np\n",
    "import matplotlib.pyplot as plt\n",
    "import seaborn as sns"
   ]
  },
  {
   "cell_type": "markdown",
   "metadata": {
    "id": "Xki7EbgdaQpX"
   },
   "source": [
    "# Series\n",
    "\n",
    "#### Series -\n",
    "\n",
    "   - are one-dimensional ndarray with axis labels (homogenous data)\n",
    "   - labels need not be unique but must be of immutable type\n",
    "\n"
   ]
  },
  {
   "cell_type": "markdown",
   "metadata": {
    "id": "F03kpEgEaQpX"
   },
   "source": [
    "### Creating Series"
   ]
  },
  {
   "cell_type": "markdown",
   "metadata": {
    "id": "f4G4uy-QaQpY"
   },
   "source": [
    "###### Ex. Create series using the given list of names"
   ]
  },
  {
   "cell_type": "code",
   "execution_count": null,
   "metadata": {
    "id": "kidwL0wBaQpY"
   },
   "outputs": [],
   "source": [
    "name = [\"Jack\", \"Jane\", \"Rosie\", \"George\", \"Sam\"]\n",
    "ser_names = pd.Series(name)\n",
    "ser_names"
   ]
  },
  {
   "cell_type": "markdown",
   "metadata": {
    "id": "ZZO8lFY1aQpY"
   },
   "source": [
    "### Extracting elements from series"
   ]
  },
  {
   "cell_type": "markdown",
   "metadata": {
    "id": "iaB4pNeuaQpY"
   },
   "source": [
    "#### Indexing based on index number"
   ]
  },
  {
   "cell_type": "code",
   "execution_count": null,
   "metadata": {
    "id": "Bupm0jbCaQpZ"
   },
   "outputs": [],
   "source": [
    "ser_names[0]"
   ]
  },
  {
   "cell_type": "code",
   "execution_count": null,
   "metadata": {},
   "outputs": [],
   "source": [
    "ser_names[0:3]"
   ]
  },
  {
   "cell_type": "markdown",
   "metadata": {
    "id": "MhTvrKT6aQpZ"
   },
   "source": [
    "#### Assigning names as index to marks"
   ]
  },
  {
   "cell_type": "code",
   "execution_count": null,
   "metadata": {},
   "outputs": [],
   "source": [
    "name = [\"Jack\", \"Jane\", \"Rosie\", \"George\", \"Sam\"]\n",
    "marks = pd.Series(np.random.randint(5, 20, size = 5), index=name)\n",
    "marks"
   ]
  },
  {
   "cell_type": "code",
   "execution_count": null,
   "metadata": {},
   "outputs": [],
   "source": [
    "name = [\"Jack\", \"Jane\", \"Rosie\", \"George\", \"Sam\"]\n",
    "marks = pd.Series(np.random.randint(5, 20, size = 5))\n",
    "marks.index = name\n",
    "marks"
   ]
  },
  {
   "cell_type": "markdown",
   "metadata": {
    "id": "JVyAnENwaQpZ"
   },
   "source": [
    "#### Indexing based on index name"
   ]
  },
  {
   "cell_type": "code",
   "execution_count": null,
   "metadata": {
    "id": "O3Thv2HSaQpZ"
   },
   "outputs": [],
   "source": [
    "marks[\"Jane\"]"
   ]
  },
  {
   "cell_type": "code",
   "execution_count": null,
   "metadata": {
    "id": "oDD_hBrdaQpa"
   },
   "outputs": [],
   "source": [
    "marks[\"Jane\" : \"George\"]"
   ]
  },
  {
   "cell_type": "markdown",
   "metadata": {
    "id": "EsPIdJQgaQpa"
   },
   "source": [
    "### Filtering Series / Conditional Indexing"
   ]
  },
  {
   "cell_type": "code",
   "execution_count": null,
   "metadata": {
    "id": "cXdKoje2aQpa"
   },
   "outputs": [],
   "source": [
    "marks[marks < 15]"
   ]
  },
  {
   "cell_type": "markdown",
   "metadata": {
    "id": "8RBog8TEaQpa"
   },
   "source": [
    "### Operations on Series"
   ]
  },
  {
   "cell_type": "code",
   "execution_count": null,
   "metadata": {
    "id": "olXqM-DJaQpa"
   },
   "outputs": [],
   "source": [
    "marks/20 * 100"
   ]
  },
  {
   "cell_type": "markdown",
   "metadata": {
    "id": "KTK3Ijh7aQpb"
   },
   "source": [
    "### Ranking and Sorting\n",
    "\n",
    "series.sort_values(`ascending=True`, `inplace=False`, `na_option = {\"first\",\"last\"}`) <br>\n",
    "series.sort_index(`ascending=True`, `inplace=False`)\n",
    "<br>\n",
    "series.rank(`ascending=False`, `method={\"average\",\"min\",\"dense\"}`, `na_option = {\"top\",\"bottom\"}`)"
   ]
  },
  {
   "cell_type": "code",
   "execution_count": null,
   "metadata": {
    "id": "6KGpwit4aQpb"
   },
   "outputs": [],
   "source": [
    "marks.sort_values(ascending=False, inplace=True)\n",
    "marks"
   ]
  },
  {
   "cell_type": "code",
   "execution_count": null,
   "metadata": {},
   "outputs": [],
   "source": [
    "marks.rank().astype(int)"
   ]
  },
  {
   "cell_type": "markdown",
   "metadata": {
    "id": "e2f4A3jTaQpb"
   },
   "source": [
    "### Working with NULLs"
   ]
  },
  {
   "cell_type": "code",
   "execution_count": null,
   "metadata": {
    "id": "sb6PRbSkaQpb"
   },
   "outputs": [],
   "source": [
    "name = [\"Jack\", \"Jane\", \"Rosie\", \"George\", \"Sam\"]\n",
    "marks = pd.Series(np.random.randint(5, 20, size = 5))\n",
    "marks.index = name\n",
    "marks"
   ]
  },
  {
   "cell_type": "code",
   "execution_count": null,
   "metadata": {},
   "outputs": [],
   "source": [
    "marks = pd.concat((marks, pd.Series([np.nan, np.nan], index = [\"Bill\", \"Thomas\"])))\n",
    "marks"
   ]
  },
  {
   "cell_type": "code",
   "execution_count": null,
   "metadata": {},
   "outputs": [],
   "source": [
    "marks.isna().any()"
   ]
  },
  {
   "cell_type": "code",
   "execution_count": null,
   "metadata": {},
   "outputs": [],
   "source": [
    "marks.isna().sum()"
   ]
  },
  {
   "cell_type": "code",
   "execution_count": null,
   "metadata": {},
   "outputs": [],
   "source": [
    "marks.fillna(0, inplace=True)"
   ]
  },
  {
   "cell_type": "markdown",
   "metadata": {
    "id": "9eUiWjfnaQpb"
   },
   "source": [
    "<hr><hr>"
   ]
  },
  {
   "cell_type": "markdown",
   "metadata": {
    "id": "47x11IZfaQpb"
   },
   "source": [
    "# Dataframe\n",
    "\n",
    "A DataFrame is two dimensional data structure where the data is arranged in the tabular format in rows and columns\n",
    "\n",
    "#### DataFrame features:\n",
    "\n",
    "- Columns can be of different data types\n",
    "- Size of dataframe can be changes\n",
    "- Axes(rows and columns) are labeled\n",
    "- Arithmetic operations can be performed on rows and columns"
   ]
  },
  {
   "cell_type": "markdown",
   "metadata": {
    "id": "XsuLFl42aQpc"
   },
   "source": [
    "### Creating Dataframes"
   ]
  },
  {
   "cell_type": "code",
   "execution_count": null,
   "metadata": {
    "id": "XU9yQthlaQpc"
   },
   "outputs": [],
   "source": [
    "employees = {\"Name\" : [\"Jack\", \"Bill\", \"Lizie\", \"Jane\", \"George\"],\n",
    "            \"Designation\" : [\"HR\", \"Manager\", \"Developer\", \"Intern\", \"Manager\"],\n",
    "            \"Salary\": [40000, 60000, 25000, 12000, 70000]}\n",
    "\n",
    "df = pd.DataFrame(employees)\n",
    "df"
   ]
  },
  {
   "cell_type": "markdown",
   "metadata": {
    "id": "2BTO39a_aQpc"
   },
   "source": [
    "### Accessing Dataframes"
   ]
  },
  {
   "cell_type": "code",
   "execution_count": null,
   "metadata": {
    "id": "vkbDFU-taQpc"
   },
   "outputs": [],
   "source": [
    "df[\"Name\"]"
   ]
  },
  {
   "cell_type": "code",
   "execution_count": null,
   "metadata": {
    "id": "vkbDFU-taQpc"
   },
   "outputs": [],
   "source": [
    "df.Name"
   ]
  },
  {
   "cell_type": "code",
   "execution_count": null,
   "metadata": {},
   "outputs": [],
   "source": [
    "df[[\"Name\", \"Salary\"]]"
   ]
  },
  {
   "cell_type": "markdown",
   "metadata": {
    "id": "xhttBDOzaQpd"
   },
   "source": [
    "### Operations on dataframes"
   ]
  },
  {
   "cell_type": "markdown",
   "metadata": {
    "id": "gxF17HubaQpd"
   },
   "source": [
    "###### Ex. Average Salary"
   ]
  },
  {
   "cell_type": "code",
   "execution_count": null,
   "metadata": {
    "id": "XORPMsvVaQpe"
   },
   "outputs": [],
   "source": [
    "df.Salary.mean()"
   ]
  },
  {
   "cell_type": "markdown",
   "metadata": {
    "id": "5uyCtQxraQpe"
   },
   "source": [
    "###### Ex. Average Salary of managers"
   ]
  },
  {
   "cell_type": "code",
   "execution_count": null,
   "metadata": {
    "id": "vEnS8bVnaQpe"
   },
   "outputs": [],
   "source": [
    "df[df.Designation == \"Manager\"].Salary.mean()"
   ]
  },
  {
   "cell_type": "markdown",
   "metadata": {
    "id": "2Kt24MypaQpe"
   },
   "source": [
    "### Concataneting and Merging Dataframes"
   ]
  },
  {
   "cell_type": "code",
   "execution_count": null,
   "metadata": {},
   "outputs": [],
   "source": [
    "df_jan = pd.DataFrame({\"Order ID\" : range(101, 111), \"Sales\" : np.random.randint(10000, 50000, 10)})\n",
    "df_feb = pd.DataFrame({\"Order ID\" : range(111, 121), \"Sales\" : np.random.randint(10000, 50000, 10)})\n",
    "df_mar = pd.DataFrame({\"Order ID\" : range(121, 131), \"Sales\" : np.random.randint(10000, 50000, 10)})"
   ]
  },
  {
   "cell_type": "markdown",
   "metadata": {
    "id": "CSGtWyPvaQpf"
   },
   "source": [
    "#### Concatenate\n",
    "pd.concat(`tuple of dfs`, `ignore_index = False`, `axis=0`)"
   ]
  },
  {
   "cell_type": "code",
   "execution_count": null,
   "metadata": {
    "id": "xOJ19ptzaQpf"
   },
   "outputs": [],
   "source": [
    "pd.concat((df_jan, df_feb, df_mar), ignore_index=True)"
   ]
  },
  {
   "cell_type": "code",
   "execution_count": null,
   "metadata": {
    "id": "xOJ19ptzaQpf"
   },
   "outputs": [],
   "source": [
    "pd.concat((df_jan, df_feb, df_mar),  axis=1)"
   ]
  },
  {
   "cell_type": "markdown",
   "metadata": {
    "id": "KQk4_kSdaQpf"
   },
   "source": [
    "#### Merging Dataframes\n",
    "\n",
    "`df1.merge(df2, how=\"\", left_on=\"\", right_on=\"\", left_index= \"\" , right_index=\"\")`"
   ]
  },
  {
   "cell_type": "code",
   "execution_count": null,
   "metadata": {
    "id": "p7S2LaPwaQpf"
   },
   "outputs": [],
   "source": [
    "df_emp = pd.DataFrame({\"Name\" : [\"Jack\", \"Bill\", \"Lizie\", \"Jane\", \"George\"],\n",
    "            \"Designation\" : [\"HR\", \"Manager\", \"Developer\", \"Intern\", \"Manager\"]})\n",
    "df_emp"
   ]
  },
  {
   "cell_type": "code",
   "execution_count": null,
   "metadata": {
    "id": "NTCO1HA9aQpf"
   },
   "outputs": [],
   "source": [
    "base_salaries = pd.DataFrame({\"Designation\" : [\"HR\", \"Developer\", \"Manager\", \"Senior Manager\"],\n",
    "            \"Salary\": [40000, 25000, 70000, 1000000]})\n",
    "base_salaries"
   ]
  },
  {
   "cell_type": "markdown",
   "metadata": {
    "id": "FEn8LGSQaQpf"
   },
   "source": [
    "#### Inner Merge"
   ]
  },
  {
   "cell_type": "code",
   "execution_count": null,
   "metadata": {
    "id": "-dfkvBy1aQpf"
   },
   "outputs": [],
   "source": [
    "df_emp.merge(base_salaries, how = \"inner\", on= \"Designation\")"
   ]
  },
  {
   "cell_type": "markdown",
   "metadata": {
    "id": "ItIkstn4aQpg"
   },
   "source": [
    "#### Left Merge"
   ]
  },
  {
   "cell_type": "code",
   "execution_count": null,
   "metadata": {
    "id": "VuonLUSPaQpg"
   },
   "outputs": [],
   "source": [
    "df_emp.merge(base_salaries, how = \"left\", on= \"Designation\")"
   ]
  },
  {
   "cell_type": "markdown",
   "metadata": {
    "id": "G2olAncNaQpg"
   },
   "source": [
    "#### Right Merge"
   ]
  },
  {
   "cell_type": "code",
   "execution_count": null,
   "metadata": {
    "id": "Zm7xmbCGaQpg"
   },
   "outputs": [],
   "source": [
    "df_emp.merge(base_salaries, how = \"right\", on= \"Designation\")"
   ]
  },
  {
   "cell_type": "markdown",
   "metadata": {
    "id": "hNpBKsrCaQpg"
   },
   "source": [
    "#### Outer Merge"
   ]
  },
  {
   "cell_type": "code",
   "execution_count": null,
   "metadata": {
    "id": "x1fbrsSGaQpg"
   },
   "outputs": [],
   "source": [
    "df_emp.merge(base_salaries, how = \"outer\", on= \"Designation\")"
   ]
  },
  {
   "cell_type": "markdown",
   "metadata": {
    "id": "Yho0mcMUaQph"
   },
   "source": [
    "## Reading data from Data Sources"
   ]
  },
  {
   "cell_type": "markdown",
   "metadata": {
    "id": "PWjVQ7v3aQpi"
   },
   "source": [
    "### Examples using Coffee Shop Dataset"
   ]
  },
  {
   "cell_type": "code",
   "execution_count": null,
   "metadata": {
    "id": "2sS81bMVaQpi"
   },
   "outputs": [],
   "source": [
    "import numpy as np\n",
    "import pandas as pd\n",
    "import matplotlib.pyplot as plt\n",
    "df = pd.read_csv(\"Datasets/coffee_sales.csv\", header=3)\n",
    "df.drop(columns=[df.columns[0]], inplace= True)\n",
    "df.fillna({\"Target Profit\" : \"0\"}, inplace=True)\n",
    "transobj = str.maketrans(\"\", \"\", \"$,\")\n",
    "df.Sales = df.Sales.str.translate(transobj).astype(float)\n",
    "df.Profit = df.Profit.str.translate(transobj).astype(float)\n",
    "df[\"Target Sales\"] = df[\"Target Sales\"].str.translate(transobj).astype(float)\n",
    "df[\"Target Profit\"] = df[\"Target Profit\"].str.translate(transobj).astype(float)\n",
    "df.head()"
   ]
  },
  {
   "cell_type": "markdown",
   "metadata": {
    "id": "-SsECgH6aQpj"
   },
   "source": [
    "###### Ex. Read data from `coffee_sales.csv`"
   ]
  },
  {
   "cell_type": "code",
   "execution_count": null,
   "metadata": {
    "id": "mBAJGrV2aQpj"
   },
   "outputs": [],
   "source": [
    "df = pd.read_csv(\"Datasets/coffee_sales.csv\", header=3)\n",
    "df"
   ]
  },
  {
   "cell_type": "code",
   "execution_count": null,
   "metadata": {},
   "outputs": [],
   "source": [
    "df.columns"
   ]
  },
  {
   "cell_type": "markdown",
   "metadata": {
    "id": "oCaRpnewaQpk"
   },
   "source": [
    "### Drop a column or row from dataframe"
   ]
  },
  {
   "cell_type": "code",
   "execution_count": null,
   "metadata": {
    "id": "3_QOBOO9aQpl"
   },
   "outputs": [],
   "source": [
    "df.drop(columns=[df.columns[0]], inplace= True)\n",
    "df.head(2)"
   ]
  },
  {
   "cell_type": "markdown",
   "metadata": {
    "id": "eLCMw924aQpm"
   },
   "source": [
    "### Drop null rows\n",
    "df.dropna(`axis = 0`, `how = \"any\"`, `inplace = False`)\n",
    "- axis 0 for row or 1 for column\n",
    "- how - {any or all}"
   ]
  },
  {
   "cell_type": "code",
   "execution_count": null,
   "metadata": {
    "id": "319H3bxraQpm"
   },
   "outputs": [],
   "source": [
    "df.isna().any()"
   ]
  },
  {
   "cell_type": "code",
   "execution_count": null,
   "metadata": {},
   "outputs": [],
   "source": [
    "df.isna().sum()"
   ]
  },
  {
   "cell_type": "code",
   "execution_count": null,
   "metadata": {},
   "outputs": [],
   "source": [
    "df = pd.read_csv(\"Datasets/coffee_sales.csv\", header=3)\n",
    "df.dropna(how = \"all\", axis=1)"
   ]
  },
  {
   "cell_type": "code",
   "execution_count": null,
   "metadata": {},
   "outputs": [],
   "source": [
    "df.fillna({\"Target Profit\" : \"0\"}, inplace=True)\n",
    "df.head()"
   ]
  },
  {
   "cell_type": "code",
   "execution_count": null,
   "metadata": {},
   "outputs": [],
   "source": [
    "df.dtypes"
   ]
  },
  {
   "cell_type": "markdown",
   "metadata": {
    "id": "Wyt3gvJkaQpm"
   },
   "source": [
    "### Renaming a Columns"
   ]
  },
  {
   "cell_type": "markdown",
   "metadata": {
    "id": "SLFDWCNhaQpm"
   },
   "source": [
    "###### Rename Columns (column 5 - 8 are not accessible)"
   ]
  },
  {
   "cell_type": "code",
   "execution_count": null,
   "metadata": {
    "id": "2lFqRxSQaQpn"
   },
   "outputs": [],
   "source": [
    "df.columns = []"
   ]
  },
  {
   "cell_type": "markdown",
   "metadata": {
    "id": "ULHNtEg1aQpn"
   },
   "source": [
    "#### Rename Single Column"
   ]
  },
  {
   "cell_type": "code",
   "execution_count": null,
   "metadata": {
    "id": "Q1u76SjxaQpn"
   },
   "outputs": [],
   "source": [
    "df.rename({\"Franchise\" : \"Branch\"}, inplace=True, axis=1)\n",
    "df.head()"
   ]
  },
  {
   "cell_type": "markdown",
   "metadata": {
    "id": "0j71BjYoaQpn"
   },
   "source": [
    "### Understanding Data in Dataframe\n",
    "\n",
    "- `df.shape` - gives the size of the dataframe in the format (row_count x column_count)\n",
    "- `df.dtypes` - returns a Series with the data type of each column\n",
    "- `df.info()` - prints information about a DataFrame including the index dtype and columns, non-null values and memory usage\n",
    "- `df.head()` - prints the first 5 rows of you dataset including column header and the content of each row\n",
    "- `df.tail()` - prints the last 5 rows of you dataset including column header and the content of each row"
   ]
  },
  {
   "cell_type": "code",
   "execution_count": null,
   "metadata": {
    "id": "3qcO_FpVaQpn"
   },
   "outputs": [],
   "source": [
    "df.shape"
   ]
  },
  {
   "cell_type": "code",
   "execution_count": null,
   "metadata": {
    "id": "Ld93P56caQpn"
   },
   "outputs": [],
   "source": [
    "df.dtypes"
   ]
  },
  {
   "cell_type": "code",
   "execution_count": null,
   "metadata": {
    "id": "xfycjqXWaQpo"
   },
   "outputs": [],
   "source": [
    "df.info()"
   ]
  },
  {
   "cell_type": "code",
   "execution_count": null,
   "metadata": {
    "id": "9C86SjRmaQpo"
   },
   "outputs": [],
   "source": [
    "df.head()"
   ]
  },
  {
   "cell_type": "code",
   "execution_count": null,
   "metadata": {
    "id": "NOwl83yVaQpo"
   },
   "outputs": [],
   "source": [
    "df_coffee.head(3)"
   ]
  },
  {
   "cell_type": "code",
   "execution_count": null,
   "metadata": {
    "id": "fYRCzZUPaQpo"
   },
   "outputs": [],
   "source": [
    "df.tail()"
   ]
  },
  {
   "cell_type": "code",
   "execution_count": null,
   "metadata": {
    "id": "ATgfSROEaQpo"
   },
   "outputs": [],
   "source": [
    "df.tail(3)"
   ]
  },
  {
   "cell_type": "markdown",
   "metadata": {
    "id": "5CFMm1uUaQpp"
   },
   "source": [
    "### Cleaning data\n",
    "\n",
    "`df.apply()`"
   ]
  },
  {
   "cell_type": "markdown",
   "metadata": {
    "id": "eNb7M4fEaQpq"
   },
   "source": [
    "###### Ex. Converting Sales and Profits columns to float types"
   ]
  },
  {
   "cell_type": "code",
   "execution_count": null,
   "metadata": {
    "id": "7xRefZ0maQpq"
   },
   "outputs": [],
   "source": [
    "transobj = str.maketrans(\"\", \"\", \"$,\")\n",
    "\n",
    "df.Sales = df.Sales.str.translate(transobj).astype(float)\n",
    "df.Profit = df.Profit.str.translate(transobj).astype(float)\n",
    "df[\"Target Sales\"] = df[\"Target Sales\"].str.translate(transobj).astype(float)\n",
    "df[\"Target Profit\"] = df[\"Target Profit\"].str.translate(transobj).astype(float)"
   ]
  },
  {
   "cell_type": "code",
   "execution_count": null,
   "metadata": {},
   "outputs": [],
   "source": [
    "df.head(2)"
   ]
  },
  {
   "cell_type": "markdown",
   "metadata": {
    "id": "_eTN-WE8aQpq"
   },
   "source": [
    "### Working with **null** values\n",
    "\n",
    "`df.isna()` - Detect missing values. Return a boolean same-sized object indicating if the values are NA.\n",
    "\n",
    "`df.fillna(value=None, inplace=False)` - Fill NA/NaN values using the specified method."
   ]
  },
  {
   "cell_type": "code",
   "execution_count": null,
   "metadata": {
    "id": "m-vBFbslaQpq"
   },
   "outputs": [],
   "source": []
  },
  {
   "cell_type": "markdown",
   "metadata": {
    "id": "f97Zl37RaQpq"
   },
   "source": [
    "###### Ex. Identify Sales made by 'Caffe Latte'"
   ]
  },
  {
   "cell_type": "code",
   "execution_count": null,
   "metadata": {
    "id": "Cj1ObY9laQpq"
   },
   "outputs": [],
   "source": [
    "df[df.Product == 'Caffe Latte'].Sales.sum()"
   ]
  },
  {
   "cell_type": "markdown",
   "metadata": {
    "id": "DxivtiVmaQpr"
   },
   "source": [
    "### Removing Duplicate Data"
   ]
  },
  {
   "cell_type": "code",
   "execution_count": null,
   "metadata": {
    "id": "HC0RoOSPaQpr"
   },
   "outputs": [],
   "source": [
    "employees = {\"Name\" : [\"Jack\", \"Bill\", \"Lizie\", \"Jane\", \"George\"],\n",
    "            \"Designation\" : [\"HR\", \"Manager\", \"Developer\", \"Intern\", \"Manager\"],\n",
    "            \"Salary\": [40000, 60000, 25000, 12000, 70000]}\n",
    "\n",
    "df = pd.DataFrame(employees)\n",
    "df"
   ]
  },
  {
   "cell_type": "code",
   "execution_count": null,
   "metadata": {},
   "outputs": [],
   "source": [
    "df.drop_duplicates(subset=[\"Designation\"], keep = \"last\")"
   ]
  },
  {
   "cell_type": "markdown",
   "metadata": {
    "id": "EgteLlmQaQpr"
   },
   "source": [
    "### Replacing values\n",
    "\n",
    "df.replace(old_value, new_value, inplace=True)"
   ]
  },
  {
   "cell_type": "code",
   "execution_count": null,
   "metadata": {
    "id": "3AtOmRVHaQpr"
   },
   "outputs": [],
   "source": [
    "df.replace({\"Developer\" : \"Dev\"})"
   ]
  },
  {
   "cell_type": "markdown",
   "metadata": {
    "id": "5NZZ0mFhaQpr"
   },
   "source": [
    "### Adding a new Column by calculation"
   ]
  },
  {
   "cell_type": "markdown",
   "metadata": {
    "id": "HD0rBNHuaQps"
   },
   "source": [
    "###### Ex. Create columns showing `Sales` and `Profit` targets achieved"
   ]
  },
  {
   "cell_type": "code",
   "execution_count": null,
   "metadata": {
    "id": "q5yHUyFPaQps"
   },
   "outputs": [],
   "source": [
    "df[\"Sales Target Status\"] = np.where(df.Sales > df[\"Target Sales\"], \"Achieved\", \"Not Achieved\")\n",
    "df.head()"
   ]
  },
  {
   "cell_type": "markdown",
   "metadata": {
    "id": "OgMsCXjIaQps"
   },
   "source": [
    "###### Ex. Count the number times Targets are achieved"
   ]
  },
  {
   "cell_type": "code",
   "execution_count": null,
   "metadata": {
    "id": "9KcuJ_fraQps"
   },
   "outputs": [],
   "source": [
    "df[\"Sales Target Status\"].value_counts()"
   ]
  },
  {
   "cell_type": "code",
   "execution_count": null,
   "metadata": {
    "id": "9KcuJ_fraQps"
   },
   "outputs": [],
   "source": [
    "(df[\"Sales Target Status\"].value_counts(normalize=True) * 100).round(2).astype(str) + \"%\""
   ]
  },
  {
   "cell_type": "markdown",
   "metadata": {
    "id": "cBMGbqmsaQpt"
   },
   "source": [
    "### Creating a bar chart to view Target Status"
   ]
  },
  {
   "cell_type": "code",
   "execution_count": null,
   "metadata": {},
   "outputs": [],
   "source": [
    "data = df[\"Sales Target Status\"].value_counts()"
   ]
  },
  {
   "cell_type": "markdown",
   "metadata": {
    "id": "z_qXwtBxaQpt"
   },
   "source": [
    "#### using matplpotlib"
   ]
  },
  {
   "cell_type": "code",
   "execution_count": null,
   "metadata": {
    "id": "soNzjwLqaQpt"
   },
   "outputs": [],
   "source": [
    "plt.figure(figsize = (3, 2))\n",
    "plt.bar(data.index, data)"
   ]
  },
  {
   "cell_type": "markdown",
   "metadata": {
    "id": "TKon3pLvaQpu"
   },
   "source": [
    "#### using pandas"
   ]
  },
  {
   "cell_type": "code",
   "execution_count": null,
   "metadata": {
    "id": "1WfD5XyIaQpu"
   },
   "outputs": [],
   "source": [
    "data.plot(kind = \"bar\", figsize = (3, 2))"
   ]
  },
  {
   "cell_type": "markdown",
   "metadata": {
    "id": "uSofSsYRaQpu"
   },
   "source": [
    "#### using seaborn"
   ]
  },
  {
   "cell_type": "code",
   "execution_count": null,
   "metadata": {
    "id": "fiSLVyE6aQpu"
   },
   "outputs": [],
   "source": [
    "plt.figure(figsize = (3, 2))\n",
    "sns.countplot(data = df, x = \"Sales Target Status\")"
   ]
  }
 ],
 "metadata": {
  "colab": {
   "provenance": []
  },
  "kernelspec": {
   "display_name": "Python 3 (ipykernel)",
   "language": "python",
   "name": "python3"
  },
  "language_info": {
   "codemirror_mode": {
    "name": "ipython",
    "version": 3
   },
   "file_extension": ".py",
   "mimetype": "text/x-python",
   "name": "python",
   "nbconvert_exporter": "python",
   "pygments_lexer": "ipython3",
   "version": "3.12.4"
  }
 },
 "nbformat": 4,
 "nbformat_minor": 4
}
