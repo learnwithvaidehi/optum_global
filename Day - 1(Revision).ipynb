{
 "cells": [
  {
   "cell_type": "markdown",
   "id": "3617e313-16ef-49a2-b6be-9623b21b0f4b",
   "metadata": {},
   "source": [
    "# Introduction to Python for Data Science\n",
    "\n",
    "- Revision on Python\n",
    "- Introduction to numpy, pandas, matplotlib, seaborn\n",
    "- NumPy - Arrays, operations on arrays, important functions of numpy library\n",
    "- Pandas - DataFrames, data manipulation - handling nulls, filtering values, merge & concat, drop columns & rows, replace values\n",
    "- Matplotlib - Data Visualization Fundamentals\n",
    "- Seaborn - Adanced Data visualization\n"
   ]
  },
  {
   "cell_type": "markdown",
   "id": "45356ecf-d048-49b2-be0b-45f7ebd3cdc4",
   "metadata": {},
   "source": [
    "## Revision on Python"
   ]
  },
  {
   "cell_type": "markdown",
   "id": "14ac8a45-27e4-488d-b142-94f8a4b65785",
   "metadata": {},
   "source": [
    "###### Ex. WAP to take rate and hours as input from user and print the gross pay based on following conditions - \n",
    "\n",
    "- if worker is working for 40 hours then the gross pay is product of rate and hours\n",
    "- if worker is working for more than 40 hours he will get 1.5 times the rate for additional hours"
   ]
  },
  {
   "cell_type": "code",
   "execution_count": 3,
   "id": "8a705da3-90e2-4616-ba56-f01f45fc6c3b",
   "metadata": {},
   "outputs": [
    {
     "name": "stdin",
     "output_type": "stream",
     "text": [
      "Enter number of hours -  45\n",
      "Enter rate per hour -  100\n"
     ]
    },
    {
     "name": "stdout",
     "output_type": "stream",
     "text": [
      "4750.0\n"
     ]
    }
   ],
   "source": [
    "hrs = int(input(\"Enter number of hours - \"))\n",
    "rate = int(input(\"Enter rate per hour - \"))\n",
    "\n",
    "if hrs <= 40 :\n",
    "    gross_pay = rate * hrs\n",
    "else :\n",
    "    gross_pay = rate * 40 + ((hrs-40) * rate * 1.5)\n",
    "print(gross_pay)"
   ]
  },
  {
   "cell_type": "markdown",
   "id": "2c339f39-8119-4b57-a086-b011eb333229",
   "metadata": {},
   "source": [
    "###### Ex. WAP to calculate BMI of a person for whom weight and height is entered as input from user. "
   ]
  },
  {
   "cell_type": "code",
   "execution_count": 5,
   "id": "404bffae-f5e7-4559-aa84-9310c057ddb1",
   "metadata": {},
   "outputs": [
    {
     "name": "stdin",
     "output_type": "stream",
     "text": [
      "Enter your weight in kgs -  60\n",
      "Enter your height in kgs -  1.65\n"
     ]
    },
    {
     "name": "stdout",
     "output_type": "stream",
     "text": [
      "22.03856749311295\n"
     ]
    }
   ],
   "source": [
    "weight = float(input(\"Enter your weight in kgs - \"))\n",
    "height = float(input(\"Enter your height in kgs - \"))\n",
    "\n",
    "bmi = weight/(height ** 2)\n",
    "print(bmi)"
   ]
  },
  {
   "cell_type": "markdown",
   "id": "36a416a3-38d9-42da-9fd5-c19f7da81c32",
   "metadata": {},
   "source": [
    "###### Ex. Extend the BMI program and categories the person's health status"
   ]
  },
  {
   "cell_type": "code",
   "execution_count": 7,
   "id": "209f6c70-4f99-44f3-aadd-534c2a22b582",
   "metadata": {},
   "outputs": [
    {
     "name": "stdin",
     "output_type": "stream",
     "text": [
      "Enter your weight in kgs -  60\n",
      "Enter your height in kgs -  1.65\n"
     ]
    },
    {
     "name": "stdout",
     "output_type": "stream",
     "text": [
      "Your BMI -  22.04\n",
      "Healthy\n"
     ]
    }
   ],
   "source": [
    "weight = float(input(\"Enter your weight in kgs - \"))\n",
    "height = float(input(\"Enter your height in kgs - \"))\n",
    "\n",
    "bmi = round(weight/(height ** 2), 2)\n",
    "print(\"Your BMI - \", bmi)\n",
    "\n",
    "if bmi < 18 :\n",
    "    print(\"underweight\")\n",
    "elif bmi < 24 :\n",
    "    print(\"Healthy\")\n",
    "elif bmi < 29 :\n",
    "    print(\"Overweight\")\n",
    "else :\n",
    "    print(\"Obese\")"
   ]
  },
  {
   "cell_type": "markdown",
   "id": "95787d75-1dcc-4312-a3e3-dc083b1479cc",
   "metadata": {},
   "source": [
    "###### Ex. WAP to print the sum and product of numbers from 1-10"
   ]
  },
  {
   "cell_type": "code",
   "execution_count": 8,
   "id": "17676842-6844-41fa-8be5-ee3633bf6505",
   "metadata": {},
   "outputs": [
    {
     "name": "stdout",
     "output_type": "stream",
     "text": [
      "Total - 55 and Product - 3628800\n"
     ]
    }
   ],
   "source": [
    "# Basic Approach\n",
    "total = 0\n",
    "product = 1\n",
    "for i in range(1,11) :\n",
    "    total += i\n",
    "    product *= i\n",
    "print(f\"Total - {total} and Product - {product}\")"
   ]
  },
  {
   "cell_type": "code",
   "execution_count": 9,
   "id": "d85c46ae-11ab-43e3-a7e5-41b961c5de19",
   "metadata": {},
   "outputs": [
    {
     "name": "stdout",
     "output_type": "stream",
     "text": [
      "Total - 55 and Product - 3628800\n"
     ]
    }
   ],
   "source": [
    "# Using built-in functions\n",
    "import math\n",
    "numbers = range(1, 11)\n",
    "print(f\"Total - {sum(numbers)} and Product - {math.prod(numbers)}\")"
   ]
  },
  {
   "cell_type": "markdown",
   "id": "9f5938ed-c1c0-4966-b567-01bf61f0366d",
   "metadata": {},
   "source": [
    "###### Ex. WAP to print(store in a new list) squares of numbers in the given list"
   ]
  },
  {
   "cell_type": "code",
   "execution_count": 10,
   "id": "8f26f4cf-c7dd-4562-96aa-9e7f44387752",
   "metadata": {},
   "outputs": [
    {
     "data": {
      "text/plain": [
       "[1, 9, 4, 36, 25, 16]"
      ]
     },
     "execution_count": 10,
     "metadata": {},
     "output_type": "execute_result"
    }
   ],
   "source": [
    "# Basic Approach\n",
    "numbers = [1, 3, 2, 6, 5, 4]\n",
    "squares = []\n",
    "\n",
    "for i in numbers :\n",
    "    squares.append(i**2)\n",
    "squares"
   ]
  },
  {
   "cell_type": "code",
   "execution_count": 11,
   "id": "9b30841e-f779-4495-b413-55f7819a28f1",
   "metadata": {},
   "outputs": [
    {
     "data": {
      "text/plain": [
       "[1, 9, 4, 36, 25, 16]"
      ]
     },
     "execution_count": 11,
     "metadata": {},
     "output_type": "execute_result"
    }
   ],
   "source": [
    "# Comprehension approach\n",
    "[i**2 for i in numbers]"
   ]
  },
  {
   "cell_type": "markdown",
   "id": "605b6b3d-3bf7-4733-8e0e-c3d59fe7fca3",
   "metadata": {},
   "source": [
    "#### Comprehension Syntax - \n",
    "\n",
    "`[<expr> for i in <seq> if <cond>]`"
   ]
  },
  {
   "cell_type": "markdown",
   "id": "04e0c5c9-ed3b-4885-a37c-31b346dac21e",
   "metadata": {},
   "source": [
    "###### Ex. Create a new list after applying 5% service tax to all the sales values in the given list"
   ]
  },
  {
   "cell_type": "code",
   "execution_count": 12,
   "id": "7ebdbf84-1224-4c6f-ae84-ea95db933e95",
   "metadata": {},
   "outputs": [
    {
     "data": {
      "text/plain": [
       "[525.0, 315.0, 945.0, 840.0, 1260.0]"
      ]
     },
     "execution_count": 12,
     "metadata": {},
     "output_type": "execute_result"
    }
   ],
   "source": [
    "sales = [500, 300, 900, 800, 1200]\n",
    "[i*1.05 for i in sales]"
   ]
  },
  {
   "cell_type": "markdown",
   "id": "7f0b28d3-6891-4870-b560-44a5c630593f",
   "metadata": {},
   "source": [
    "### Examples on Strings"
   ]
  },
  {
   "cell_type": "code",
   "execution_count": 13,
   "id": "eb04c46f-97cf-4b2d-8cbd-5dba81e586d6",
   "metadata": {},
   "outputs": [],
   "source": [
    "strg = \"I am in python class\""
   ]
  },
  {
   "cell_type": "markdown",
   "id": "19af19be-fd27-4391-b86e-222a999b395e",
   "metadata": {},
   "source": [
    "###### Ex. Print te string in reverse order"
   ]
  },
  {
   "cell_type": "code",
   "execution_count": 14,
   "id": "08f49286-8292-483c-a202-d8f13aec5e9f",
   "metadata": {},
   "outputs": [
    {
     "data": {
      "text/plain": [
       "'ssalc nohtyp ni ma I'"
      ]
     },
     "execution_count": 14,
     "metadata": {},
     "output_type": "execute_result"
    }
   ],
   "source": [
    "strg[::-1]"
   ]
  },
  {
   "cell_type": "markdown",
   "id": "661b327f-442e-485f-acfc-d052d81c19ef",
   "metadata": {},
   "source": [
    "###### Ex. Print following output\n",
    "\n",
    "`I Am In Python Class`"
   ]
  },
  {
   "cell_type": "code",
   "execution_count": 16,
   "id": "29f80a2e-1a05-4ac8-a07e-74bf601875eb",
   "metadata": {},
   "outputs": [
    {
     "data": {
      "text/plain": [
       "'I Am In Python Class'"
      ]
     },
     "execution_count": 16,
     "metadata": {},
     "output_type": "execute_result"
    }
   ],
   "source": [
    "strg.title()"
   ]
  },
  {
   "cell_type": "code",
   "execution_count": 21,
   "id": "7e3543b8-7b9e-4433-9fce-351cc75edca7",
   "metadata": {},
   "outputs": [
    {
     "name": "stdout",
     "output_type": "stream",
     "text": [
      "I\n",
      "am\n",
      "in\n",
      "python\n",
      "class\n"
     ]
    }
   ],
   "source": [
    "# Example on iterating over words - \n",
    "\n",
    "for word in strg.split() :\n",
    "    print(word)"
   ]
  },
  {
   "cell_type": "markdown",
   "id": "b349c734-aac5-478c-9641-9dcca528a81b",
   "metadata": {},
   "source": [
    "###### Ex. WAP to print all the unique vowels in a word entered by user"
   ]
  },
  {
   "cell_type": "code",
   "execution_count": 17,
   "id": "e766baed-f623-4cab-b0f2-92419e3b540b",
   "metadata": {},
   "outputs": [
    {
     "name": "stdin",
     "output_type": "stream",
     "text": [
      "Enter a word -  singapore\n"
     ]
    },
    {
     "name": "stdout",
     "output_type": "stream",
     "text": [
      "i\n",
      "a\n",
      "o\n",
      "e\n"
     ]
    }
   ],
   "source": [
    "word = input(\"Enter a word - \").lower()\n",
    "for ch in word :\n",
    "    if ch in \"aeiou\":\n",
    "        print(ch)"
   ]
  },
  {
   "cell_type": "code",
   "execution_count": 19,
   "id": "d9cf0064-2705-4818-aa36-32db0cf5dc1a",
   "metadata": {},
   "outputs": [
    {
     "name": "stdin",
     "output_type": "stream",
     "text": [
      "Enter a word -  mississippi\n"
     ]
    },
    {
     "name": "stdout",
     "output_type": "stream",
     "text": [
      "i\n"
     ]
    }
   ],
   "source": [
    "word = input(\"Enter a word - \").lower()\n",
    "for ch in \"aeiou\" :\n",
    "    if ch in word:\n",
    "        print(ch)"
   ]
  },
  {
   "cell_type": "code",
   "execution_count": 24,
   "id": "5cdf4c7a-6924-48a8-88c1-0b2e06f76e22",
   "metadata": {},
   "outputs": [
    {
     "name": "stdout",
     "output_type": "stream",
     "text": [
      "['__doc__', '__loader__', '__name__', '__package__', '__spec__', 'acos', 'acosh', 'asin', 'asinh', 'atan', 'atan2', 'atanh', 'cbrt', 'ceil', 'comb', 'copysign', 'cos', 'cosh', 'degrees', 'dist', 'e', 'erf', 'erfc', 'exp', 'exp2', 'expm1', 'fabs', 'factorial', 'floor', 'fmod', 'frexp', 'fsum', 'gamma', 'gcd', 'hypot', 'inf', 'isclose', 'isfinite', 'isinf', 'isnan', 'isqrt', 'lcm', 'ldexp', 'lgamma', 'log', 'log10', 'log1p', 'log2', 'modf', 'nan', 'nextafter', 'perm', 'pi', 'pow', 'prod', 'radians', 'remainder', 'sin', 'sinh', 'sqrt', 'sumprod', 'tan', 'tanh', 'tau', 'trunc', 'ulp']\n"
     ]
    }
   ],
   "source": [
    "import math\n",
    "print(dir(math))"
   ]
  },
  {
   "cell_type": "code",
   "execution_count": 25,
   "id": "0a1bcdd3-d17e-4272-8fb0-982ddb390686",
   "metadata": {},
   "outputs": [
    {
     "name": "stdout",
     "output_type": "stream",
     "text": [
      "['__add__', '__class__', '__contains__', '__delattr__', '__dir__', '__doc__', '__eq__', '__format__', '__ge__', '__getattribute__', '__getitem__', '__getnewargs__', '__getstate__', '__gt__', '__hash__', '__init__', '__init_subclass__', '__iter__', '__le__', '__len__', '__lt__', '__mod__', '__mul__', '__ne__', '__new__', '__reduce__', '__reduce_ex__', '__repr__', '__rmod__', '__rmul__', '__setattr__', '__sizeof__', '__str__', '__subclasshook__', 'capitalize', 'casefold', 'center', 'count', 'encode', 'endswith', 'expandtabs', 'find', 'format', 'format_map', 'index', 'isalnum', 'isalpha', 'isascii', 'isdecimal', 'isdigit', 'isidentifier', 'islower', 'isnumeric', 'isprintable', 'isspace', 'istitle', 'isupper', 'join', 'ljust', 'lower', 'lstrip', 'maketrans', 'partition', 'removeprefix', 'removesuffix', 'replace', 'rfind', 'rindex', 'rjust', 'rpartition', 'rsplit', 'rstrip', 'split', 'splitlines', 'startswith', 'strip', 'swapcase', 'title', 'translate', 'upper', 'zfill']\n"
     ]
    }
   ],
   "source": [
    "print(dir(str))"
   ]
  },
  {
   "cell_type": "code",
   "execution_count": 32,
   "id": "ac72cf84-3e00-4f27-a7fb-e8dd0ca10bb7",
   "metadata": {},
   "outputs": [
    {
     "name": "stdout",
     "output_type": "stream",
     "text": [
      "Help on method_descriptor:\n",
      "\n",
      "replace(self, old, new, count=-1, /) unbound builtins.str method\n",
      "    Return a copy with all occurrences of substring old replaced by new.\n",
      "\n",
      "      count\n",
      "        Maximum number of occurrences to replace.\n",
      "        -1 (the default value) means replace all occurrences.\n",
      "\n",
      "    If the optional argument count is given, only the first count occurrences are\n",
      "    replaced.\n",
      "\n"
     ]
    }
   ],
   "source": [
    "help(str.replace)"
   ]
  },
  {
   "cell_type": "markdown",
   "id": "f65372f8-b19b-4d8c-9409-b704d26d91aa",
   "metadata": {},
   "source": [
    "###### Ex. WAP to replace all the vowels in the word with \"*\""
   ]
  },
  {
   "cell_type": "code",
   "execution_count": 29,
   "id": "75a8a0c7-ff5b-4901-a300-2c8e2468595c",
   "metadata": {},
   "outputs": [
    {
     "name": "stdin",
     "output_type": "stream",
     "text": [
      "Enter a word -  singapore\n"
     ]
    },
    {
     "name": "stdout",
     "output_type": "stream",
     "text": [
      "s*ng*p*r*\n"
     ]
    }
   ],
   "source": [
    "# Basic approach\n",
    "word = input(\"Enter a word - \").lower()\n",
    "for ch in \"aeiou\" :\n",
    "    word = word.replace(ch, \"*\")\n",
    "print(word)"
   ]
  },
  {
   "cell_type": "code",
   "execution_count": 31,
   "id": "232e47a2-fb23-489e-af10-9feae15b2789",
   "metadata": {},
   "outputs": [
    {
     "data": {
      "text/plain": [
       "'s*ng*p*r*'"
      ]
     },
     "execution_count": 31,
     "metadata": {},
     "output_type": "execute_result"
    }
   ],
   "source": [
    "# use maketrans() and translate() functions \n",
    "trans_obj = str.maketrans(\"aeiou\", \"*****\")\n",
    "word.translate(trans_obj)"
   ]
  },
  {
   "cell_type": "markdown",
   "id": "f91fa459-a6e4-4115-a0fa-2b8741862c0b",
   "metadata": {},
   "source": [
    "###### Ex. WAP to convert the profit value to int"
   ]
  },
  {
   "cell_type": "code",
   "execution_count": 37,
   "id": "06f29d53-d569-4a27-ab34-e0ff62defec3",
   "metadata": {},
   "outputs": [
    {
     "data": {
      "text/plain": [
       "-1200"
      ]
     },
     "execution_count": 37,
     "metadata": {},
     "output_type": "execute_result"
    }
   ],
   "source": [
    "profit = \"($1,200)\"\n",
    "trans_obj = str.maketrans(\"(\", \"-\", \"$,)\")\n",
    "profit = profit.translate(trans_obj)\n",
    "int(profit)"
   ]
  },
  {
   "cell_type": "code",
   "execution_count": 34,
   "id": "4128353c-bed7-4ad9-89d8-f379b4804075",
   "metadata": {},
   "outputs": [
    {
     "name": "stdout",
     "output_type": "stream",
     "text": [
      "Help on built-in function maketrans:\n",
      "\n",
      "maketrans(...)\n",
      "    Return a translation table usable for str.translate().\n",
      "\n",
      "    If there is only one argument, it must be a dictionary mapping Unicode\n",
      "    ordinals (integers) or characters to Unicode ordinals, strings or None.\n",
      "    Character keys will be then converted to ordinals.\n",
      "    If there are two arguments, they must be strings of equal length, and\n",
      "    in the resulting dictionary, each character in x will be mapped to the\n",
      "    character at the same position in y. If there is a third argument, it\n",
      "    must be a string, whose characters will be mapped to None in the result.\n",
      "\n"
     ]
    }
   ],
   "source": [
    "help(str.maketrans)"
   ]
  },
  {
   "cell_type": "markdown",
   "id": "3f9eb41f-b934-4ac7-af85-305a375727b2",
   "metadata": {},
   "source": [
    "## Python Containers\n",
    "   \n",
    "<table style=\"width: 100%; border-collapse: collapse; border: 1px solid #ccc; text-align: center;\">\n",
    "  <thead>\n",
    "    <tr style=\"background-color: #050A30; color: white;\">\n",
    "      <th style=\"border: 1px solid #ccc; padding: 8px;\">Object</th>\n",
    "      <th style=\"border: 1px solid #ccc; padding: 8px;\">Container Object</th>\n",
    "      <th style=\"border: 1px solid #ccc; padding: 8px;\">Sequence Type</th>\n",
    "      <th style=\"border: 1px solid #ccc; padding: 8px;\">Element Type</th>\n",
    "      <th style=\"border: 1px solid #ccc; padding: 8px;\">Enclosed in</th>\n",
    "      <th style=\"border: 1px solid #ccc; padding: 8px;\">Immutability</th>\n",
    "      <th style=\"border: 1px solid #ccc; padding: 8px;\">Duplicates</th>\n",
    "    </tr>\n",
    "  </thead>\n",
    "  <tbody>\n",
    "    <tr>\n",
    "      <td style=\"border: 1px solid #ccc; padding: 8px;\">str()</td>\n",
    "      <td style=\"border: 1px solid #ccc; padding: 8px;\">No</td>\n",
    "      <td style=\"border: 1px solid #ccc; padding: 8px;\">ordered/indexed</td>\n",
    "      <td style=\"border: 1px solid #ccc; padding: 8px;\">characters</td>\n",
    "      <td style=\"border: 1px solid #ccc; padding: 8px;\">\"\" or ''</td>\n",
    "      <td style=\"border: 1px solid #ccc; padding: 8px;\">Yes</td>\n",
    "      <td style=\"border: 1px solid #ccc; padding: 8px;\">Yes</td>\n",
    "    </tr>\n",
    "    <tr>\n",
    "      <td style=\"border: 1px solid #ccc; padding: 8px;\">tuple()</td>\n",
    "      <td style=\"border: 1px solid #ccc; padding: 8px;\">Yes</td>\n",
    "      <td style=\"border: 1px solid #ccc; padding: 8px;\">ordered/indexed</td>\n",
    "      <td style=\"border: 1px solid #ccc; padding: 8px;\">mixed data (heterogeneous)</td>\n",
    "      <td style=\"border: 1px solid #ccc; padding: 8px;\">()</td>\n",
    "      <td style=\"border: 1px solid #ccc; padding: 8px;\">Yes</td>\n",
    "      <td style=\"border: 1px solid #ccc; padding: 8px;\">Yes</td>\n",
    "    </tr>\n",
    "    <tr>\n",
    "      <td style=\"border: 1px solid #ccc; padding: 8px;\">list()</td>\n",
    "      <td style=\"border: 1px solid #ccc; padding: 8px;\">Yes</td>\n",
    "      <td style=\"border: 1px solid #ccc; padding: 8px;\">ordered/indexed</td>\n",
    "      <td style=\"border: 1px solid #ccc; padding: 8px;\">mixed data (heterogeneous)</td>\n",
    "      <td style=\"border: 1px solid #ccc; padding: 8px;\">[]</td>\n",
    "      <td style=\"border: 1px solid #ccc; padding: 8px;\">No</td>\n",
    "      <td style=\"border: 1px solid #ccc; padding: 8px;\">Yes</td>\n",
    "    </tr>\n",
    "    <tr>\n",
    "      <td style=\"border: 1px solid #ccc; padding: 8px;\">set()</td>\n",
    "      <td style=\"border: 1px solid #ccc; padding: 8px;\">Yes</td>\n",
    "      <td style=\"border: 1px solid #ccc; padding: 8px;\">unordered</td>\n",
    "      <td style=\"border: 1px solid #ccc; padding: 8px;\">heterogeneous (immutable objects)</td>\n",
    "      <td style=\"border: 1px solid #ccc; padding: 8px;\">{}</td>\n",
    "      <td style=\"border: 1px solid #ccc; padding: 8px;\">No</td>\n",
    "      <td style=\"border: 1px solid #ccc; padding: 8px;\">No</td>\n",
    "    </tr>\n",
    "    <tr>\n",
    "      <td style=\"border: 1px solid #ccc; padding: 8px;\">dict()</td>\n",
    "      <td style=\"border: 1px solid #ccc; padding: 8px;\">Yes</td>\n",
    "      <td style=\"border: 1px solid #ccc; padding: 8px;\">unordered</td>\n",
    "      <td style=\"border: 1px solid #ccc; padding: 8px;\">Key - immutable<br>Value - any type</td>\n",
    "      <td style=\"border: 1px solid #ccc; padding: 8px;\">{}</td>\n",
    "      <td style=\"border: 1px solid #ccc; padding: 8px;\">No</td>\n",
    "      <td style=\"border: 1px solid #ccc; padding: 8px;\">Key - No<br>Value - Yes</td>\n",
    "    </tr>\n"
   ]
  },
  {
   "cell_type": "markdown",
   "id": "a73ade22-2b21-4ea2-b660-1dd98d42d407",
   "metadata": {},
   "source": [
    "###### Ex. Calculate Percentage\n",
    "Write a program to compute the percentages of 10 students from the provided list. Display the results in a tabular format showing each student's ID and percentage. The student IDs should be generated sequentially starting from 101."
   ]
  },
  {
   "cell_type": "code",
   "execution_count": 42,
   "id": "0abae24b-78f2-4817-9dde-c0cd48a4c766",
   "metadata": {},
   "outputs": [
    {
     "data": {
      "text/plain": [
       "67.0"
      ]
     },
     "execution_count": 42,
     "metadata": {},
     "output_type": "execute_result"
    }
   ],
   "source": [
    "st = (51, 67, 83)\n",
    "sum(st)/3"
   ]
  },
  {
   "cell_type": "code",
   "execution_count": 45,
   "id": "0ecb735a-92ca-425d-8745-d28e8136b09a",
   "metadata": {},
   "outputs": [
    {
     "name": "stdout",
     "output_type": "stream",
     "text": [
      "[67.0, 56.67, 56.0, 64.0, 70.0, 63.0, 57.33, 52.33, 67.33, 60.33]\n"
     ]
    }
   ],
   "source": [
    "marks = [(51, 67, 83), (41, 93, 36), (50, 31, 87), (94, 46, 52), (80, 61, 69), (72, 77, 40), (54, 64, 54), (84, 33, 40), (56, 56, 90), (45, 75, 61)]\n",
    "\n",
    "percentage = [round(sum(st)/3, 2) for st in marks]\n",
    "print(percentage)"
   ]
  },
  {
   "cell_type": "markdown",
   "id": "c110fd04-ea3b-408c-bde8-12da338baf06",
   "metadata": {},
   "source": [
    "**`enumerate(<list/tuple>, start = 0)`** - returns a sequence object of tuples with first value as counter and second value from the list"
   ]
  },
  {
   "cell_type": "code",
   "execution_count": 46,
   "id": "07208d21-78b3-48a5-9665-751cd1e831f8",
   "metadata": {},
   "outputs": [
    {
     "data": {
      "text/plain": [
       "<enumerate at 0x1f44d702570>"
      ]
     },
     "execution_count": 46,
     "metadata": {},
     "output_type": "execute_result"
    }
   ],
   "source": [
    "enumerate(percentage)"
   ]
  },
  {
   "cell_type": "code",
   "execution_count": 48,
   "id": "604c9c0f-91e0-44e4-97fb-322a4fe56c8a",
   "metadata": {},
   "outputs": [
    {
     "name": "stdout",
     "output_type": "stream",
     "text": [
      "[(0, 67.0), (1, 56.67), (2, 56.0), (3, 64.0), (4, 70.0), (5, 63.0), (6, 57.33), (7, 52.33), (8, 67.33), (9, 60.33)]\n"
     ]
    }
   ],
   "source": [
    "print(list(enumerate(percentage)))"
   ]
  },
  {
   "cell_type": "code",
   "execution_count": 49,
   "id": "2e78d32d-1c07-4213-94f0-9d962c782889",
   "metadata": {},
   "outputs": [
    {
     "name": "stdout",
     "output_type": "stream",
     "text": [
      "[(101, 67.0), (102, 56.67), (103, 56.0), (104, 64.0), (105, 70.0), (106, 63.0), (107, 57.33), (108, 52.33), (109, 67.33), (110, 60.33)]\n"
     ]
    }
   ],
   "source": [
    "print(list(enumerate(percentage, start = 101)))"
   ]
  },
  {
   "cell_type": "code",
   "execution_count": 52,
   "id": "0a831c8c-97c6-4982-9169-6f41559e73f1",
   "metadata": {},
   "outputs": [
    {
     "name": "stdout",
     "output_type": "stream",
     "text": [
      "101 67.0\n",
      "102 56.67\n",
      "103 56.0\n",
      "104 64.0\n",
      "105 70.0\n",
      "106 63.0\n",
      "107 57.33\n",
      "108 52.33\n",
      "109 67.33\n",
      "110 60.33\n"
     ]
    }
   ],
   "source": [
    "for i in enumerate(percentage, start = 101) :\n",
    "    print(i[0], i[1])"
   ]
  },
  {
   "cell_type": "code",
   "execution_count": 58,
   "id": "173a33a1-0da9-4a71-b3aa-a8a6a2306e70",
   "metadata": {},
   "outputs": [
    {
     "name": "stdout",
     "output_type": "stream",
     "text": [
      "a - 1 b - 2 c - 3\n"
     ]
    }
   ],
   "source": [
    "# unpacking of tuples\n",
    "\n",
    "tup = (1, 2, 3)\n",
    "a, b, c = tup\n",
    "print(f\"a - {a} b - {b} c - {c}\")"
   ]
  },
  {
   "cell_type": "code",
   "execution_count": 53,
   "id": "7e6e5dcb-1225-4949-a766-d58f52153916",
   "metadata": {},
   "outputs": [
    {
     "name": "stdout",
     "output_type": "stream",
     "text": [
      "101 67.0\n",
      "102 56.67\n",
      "103 56.0\n",
      "104 64.0\n",
      "105 70.0\n",
      "106 63.0\n",
      "107 57.33\n",
      "108 52.33\n",
      "109 67.33\n",
      "110 60.33\n"
     ]
    }
   ],
   "source": [
    "for sid, percent in enumerate(percentage, start = 101) :  # unpacking of tuples\n",
    "    print(sid, percent)"
   ]
  },
  {
   "cell_type": "code",
   "execution_count": 62,
   "id": "a12ab964-3e30-4e89-9178-278562b6bae9",
   "metadata": {},
   "outputs": [
    {
     "name": "stdout",
     "output_type": "stream",
     "text": [
      "--------------------\n",
      "SID \t Percentage\n",
      "--------------------\n",
      "101 \t 67.0\n",
      "102 \t 56.67\n",
      "103 \t 56.0\n",
      "104 \t 64.0\n",
      "105 \t 70.0\n",
      "106 \t 63.0\n",
      "107 \t 57.33\n",
      "108 \t 52.33\n",
      "109 \t 67.33\n",
      "110 \t 60.33\n"
     ]
    }
   ],
   "source": [
    "print(\"-\"*20)\n",
    "print(f\"SID \\t Percentage\")\n",
    "print(\"-\"*20)\n",
    "for sid, percent in enumerate(percentage, start = 101) : \n",
    "    print(f\"{sid} \\t {percent}\")"
   ]
  },
  {
   "cell_type": "markdown",
   "id": "ced814b8-77f9-4018-9dfc-43abbb1d61ad",
   "metadata": {},
   "source": [
    "##### Note - \n",
    "\n",
    "- Any sequence can be converted to a list or a tuple\n",
    "- Any sequence of tuples (size 2) can be converted to a dict"
   ]
  },
  {
   "cell_type": "code",
   "execution_count": 63,
   "id": "01f260f2-d634-4acb-a912-67a72de67517",
   "metadata": {},
   "outputs": [
    {
     "data": {
      "text/plain": [
       "[1, 2, 3, 4, 5, 6, 7, 8, 9, 10]"
      ]
     },
     "execution_count": 63,
     "metadata": {},
     "output_type": "execute_result"
    }
   ],
   "source": [
    "list(range(1, 11))"
   ]
  },
  {
   "cell_type": "code",
   "execution_count": 64,
   "id": "e1c7f0b1-4a2d-47dd-8f6b-153a4c8c428d",
   "metadata": {},
   "outputs": [
    {
     "data": {
      "text/plain": [
       "(1, 2, 3, 4, 5, 6, 7, 8, 9, 10)"
      ]
     },
     "execution_count": 64,
     "metadata": {},
     "output_type": "execute_result"
    }
   ],
   "source": [
    "tuple(range(1, 11))"
   ]
  },
  {
   "cell_type": "code",
   "execution_count": 67,
   "id": "7d191d6f-2d41-410b-8265-7e72f8e1cf52",
   "metadata": {},
   "outputs": [
    {
     "name": "stdout",
     "output_type": "stream",
     "text": [
      "[(101, 67.0), (102, 56.67), (103, 56.0), (104, 64.0), (105, 70.0), (106, 63.0), (107, 57.33), (108, 52.33), (109, 67.33), (110, 60.33)]\n"
     ]
    }
   ],
   "source": [
    "print(list(enumerate(percentage, start = 101)))"
   ]
  },
  {
   "cell_type": "code",
   "execution_count": 68,
   "id": "51490465-02f7-4332-858f-a6e50d8b3bb0",
   "metadata": {},
   "outputs": [
    {
     "name": "stdout",
     "output_type": "stream",
     "text": [
      "{101: 67.0, 102: 56.67, 103: 56.0, 104: 64.0, 105: 70.0, 106: 63.0, 107: 57.33, 108: 52.33, 109: 67.33, 110: 60.33}\n"
     ]
    }
   ],
   "source": [
    "print(dict(enumerate(percentage, start = 101)))"
   ]
  },
  {
   "cell_type": "markdown",
   "id": "3d85a955-dbba-42fc-a138-65bbcccf992f",
   "metadata": {},
   "source": [
    "###### Ex. WAP to create a dict by combining following list"
   ]
  },
  {
   "cell_type": "code",
   "execution_count": 70,
   "id": "0c77910f-2146-490c-ab2f-cf99934433d9",
   "metadata": {},
   "outputs": [],
   "source": [
    "names = [\"Jack\", \"Jane\", \"Rosie\", \"George\"]\n",
    "salary = [40000, 50000, 30000, 60000, 25000]\n"
   ]
  },
  {
   "cell_type": "markdown",
   "id": "f27f3cf9-19b4-4de9-9c27-a21b22050232",
   "metadata": {},
   "source": [
    "**`zip(list1, list2,...)`** - returns a sequence object of tuples of size n, where n = number of list, combining the elements index-wise"
   ]
  },
  {
   "cell_type": "code",
   "execution_count": 72,
   "id": "066acee8-cda1-4392-950c-dcc7faaa8a69",
   "metadata": {},
   "outputs": [
    {
     "data": {
      "text/plain": [
       "[('Jack', 40000), ('Jane', 50000), ('Rosie', 30000), ('George', 60000)]"
      ]
     },
     "execution_count": 72,
     "metadata": {},
     "output_type": "execute_result"
    }
   ],
   "source": [
    "list(zip(names, salary))"
   ]
  },
  {
   "cell_type": "code",
   "execution_count": 75,
   "id": "97101903-d3fa-4ea1-b82c-a2a4ed9f803c",
   "metadata": {},
   "outputs": [
    {
     "name": "stdout",
     "output_type": "stream",
     "text": [
      "{1: ('Jack', 40000), 2: ('Jane', 50000), 3: ('Rosie', 30000), 4: ('George', 60000)}\n"
     ]
    }
   ],
   "source": [
    "print(dict(enumerate(zip(names, salary), start = 1)))"
   ]
  },
  {
   "cell_type": "markdown",
   "id": "9d95e84b-9769-4188-9514-5f344e540c56",
   "metadata": {},
   "source": [
    "#### Ex. Validate user Password\n",
    "\n",
    "**Rules -**\n",
    "\n",
    "- The password cannot match the username.\n",
    "- The password must be between 8 and 16 characters in length.\n",
    "- The password must include at least one digit, one uppercase letter, one lowercase letter, and one special character."
   ]
  },
  {
   "cell_type": "code",
   "execution_count": 95,
   "id": "f7aace5d-7064-4922-b2e6-bfc0cc545b62",
   "metadata": {},
   "outputs": [
    {
     "data": {
      "text/plain": [
       "True"
      ]
     },
     "execution_count": 95,
     "metadata": {},
     "output_type": "execute_result"
    }
   ],
   "source": [
    "username = \"Jane\"\n",
    "password = \"Jane@123\"\n",
    "\n",
    "result = []\n",
    "\n",
    "result.append(username != password)\n",
    "result.append(len(password) <=16 and len(password)>= 8)\n",
    "result.append(set(string.ascii_lowercase) & set(password))\n",
    "result.append(set(string.ascii_uppercase) & set(password))\n",
    "result.append(set(string.digits) & set(password))\n",
    "result.append(set(\"!@#$%&*\") & set(password))\n",
    "\n",
    "\n",
    "if all(result) :\n",
    "    print(\"Valid Password\")\n",
    "else:\n",
    "    print(\"Invalid Password\")"
   ]
  },
  {
   "cell_type": "markdown",
   "id": "6a0053d5-04b1-4575-89a1-2848d1fb90d6",
   "metadata": {},
   "source": [
    "##### Note - bool() of empty sequence is always FALSE"
   ]
  },
  {
   "cell_type": "markdown",
   "id": "6c836957-ba05-4b8e-9b79-c2a67eeb157a",
   "metadata": {},
   "source": [
    "- **`all()`** - returns True, if all elements in the list are True\n",
    "- **`any()`** - returns True if any 1 element in the list is True"
   ]
  },
  {
   "cell_type": "code",
   "execution_count": 85,
   "id": "2187bbac-9fde-4e0b-aaf6-37e66579769e",
   "metadata": {},
   "outputs": [
    {
     "data": {
      "text/plain": [
       "'abcdefghijklmnopqrstuvwxyzABCDEFGHIJKLMNOPQRSTUVWXYZ'"
      ]
     },
     "execution_count": 85,
     "metadata": {},
     "output_type": "execute_result"
    }
   ],
   "source": [
    "import string\n",
    "string.ascii_letters"
   ]
  },
  {
   "cell_type": "code",
   "execution_count": 86,
   "id": "beda2a6e-e77b-4ddf-adf1-35d5be3c7cbc",
   "metadata": {},
   "outputs": [
    {
     "data": {
      "text/plain": [
       "'abcdefghijklmnopqrstuvwxyz'"
      ]
     },
     "execution_count": 86,
     "metadata": {},
     "output_type": "execute_result"
    }
   ],
   "source": [
    "string.ascii_lowercase"
   ]
  },
  {
   "cell_type": "code",
   "execution_count": 88,
   "id": "97dcf5d4-6b67-4907-a584-a950edde4f72",
   "metadata": {},
   "outputs": [
    {
     "data": {
      "text/plain": [
       "{'a', 'e', 'n'}"
      ]
     },
     "execution_count": 88,
     "metadata": {},
     "output_type": "execute_result"
    }
   ],
   "source": [
    "set(string.ascii_lowercase) & set(password)"
   ]
  },
  {
   "cell_type": "markdown",
   "id": "763015ab-70c4-408b-92bc-8ef3d2d5659f",
   "metadata": {},
   "source": [
    "## Function Arguments"
   ]
  },
  {
   "cell_type": "markdown",
   "id": "b4c85330-9669-47b2-b961-e34919813b63",
   "metadata": {},
   "source": [
    "- **Function definition**\n",
    "    - def keyword\n",
    "    - demo - name of function\n",
    "    - name and age are parameters\n",
    "    - function implementation"
   ]
  },
  {
   "cell_type": "code",
   "execution_count": 97,
   "id": "14620475-6457-4916-89cf-3adb1486070e",
   "metadata": {},
   "outputs": [],
   "source": [
    "def demo(name, age) :\n",
    "    print(f\"Name - {name} and Age - {age}\")\n",
    "    return \"\""
   ]
  },
  {
   "cell_type": "markdown",
   "id": "1c244ef8-e806-4f2b-8425-37223e44e977",
   "metadata": {},
   "source": [
    "- **Function call**\n",
    "    - \"jane\" and 30 are arguments "
   ]
  },
  {
   "cell_type": "code",
   "execution_count": 98,
   "id": "f938b40f-4673-4de7-876f-ead6db11e03d",
   "metadata": {},
   "outputs": [
    {
     "name": "stdout",
     "output_type": "stream",
     "text": [
      "Name - jane and Age - 30\n"
     ]
    },
    {
     "data": {
      "text/plain": [
       "''"
      ]
     },
     "execution_count": 98,
     "metadata": {},
     "output_type": "execute_result"
    }
   ],
   "source": [
    "demo(\"jane\", 30)"
   ]
  },
  {
   "cell_type": "markdown",
   "id": "7b3bdf7e-fe39-46dc-b7d8-8cb29174df04",
   "metadata": {},
   "source": [
    "#### 1. Required Positional Argument"
   ]
  },
  {
   "cell_type": "code",
   "execution_count": 99,
   "id": "8ff6a076-73ab-48b3-ad2d-453d688ac04f",
   "metadata": {},
   "outputs": [
    {
     "ename": "TypeError",
     "evalue": "demo() missing 1 required positional argument: 'age'",
     "output_type": "error",
     "traceback": [
      "\u001b[1;31m---------------------------------------------------------------------------\u001b[0m",
      "\u001b[1;31mTypeError\u001b[0m                                 Traceback (most recent call last)",
      "Cell \u001b[1;32mIn[99], line 1\u001b[0m\n\u001b[1;32m----> 1\u001b[0m \u001b[43mdemo\u001b[49m\u001b[43m(\u001b[49m\u001b[38;5;124;43m\"\u001b[39;49m\u001b[38;5;124;43mjane\u001b[39;49m\u001b[38;5;124;43m\"\u001b[39;49m\u001b[43m)\u001b[49m\n",
      "\u001b[1;31mTypeError\u001b[0m: demo() missing 1 required positional argument: 'age'"
     ]
    }
   ],
   "source": [
    "demo(\"jane\")"
   ]
  },
  {
   "cell_type": "code",
   "execution_count": 100,
   "id": "f7814c99-5772-4ffe-bfdf-a6bd758d2709",
   "metadata": {},
   "outputs": [
    {
     "name": "stdout",
     "output_type": "stream",
     "text": [
      "Name - 30 and Age - jane\n"
     ]
    },
    {
     "data": {
      "text/plain": [
       "''"
      ]
     },
     "execution_count": 100,
     "metadata": {},
     "output_type": "execute_result"
    }
   ],
   "source": [
    "demo(30, \"jane\")"
   ]
  },
  {
   "cell_type": "code",
   "execution_count": 102,
   "id": "1e05bd5f-bcba-4753-9b82-1870da0df957",
   "metadata": {},
   "outputs": [
    {
     "data": {
      "text/plain": [
       "[10, 20, 15, 30, 40, 50]"
      ]
     },
     "execution_count": 102,
     "metadata": {},
     "output_type": "execute_result"
    }
   ],
   "source": [
    "lst = [10, 20, 30, 40, 50]\n",
    "lst.insert(2, 15)\n",
    "lst"
   ]
  },
  {
   "cell_type": "code",
   "execution_count": 103,
   "id": "b561197f-c694-49da-b6e6-8a54ca162f4d",
   "metadata": {},
   "outputs": [
    {
     "data": {
      "text/plain": [
       "[10, 20, 30, 40, 50, 2]"
      ]
     },
     "execution_count": 103,
     "metadata": {},
     "output_type": "execute_result"
    }
   ],
   "source": [
    "lst = [10, 20, 30, 40, 50]\n",
    "lst.insert(15, 2)\n",
    "lst"
   ]
  },
  {
   "cell_type": "code",
   "execution_count": 104,
   "id": "8233ac05-ab1a-436e-863e-8a8ee1ccf79c",
   "metadata": {},
   "outputs": [
    {
     "data": {
      "text/plain": [
       "[10, 20, 'abcd', 30, 40, 50]"
      ]
     },
     "execution_count": 104,
     "metadata": {},
     "output_type": "execute_result"
    }
   ],
   "source": [
    "lst = [10, 20, 30, 40, 50]\n",
    "lst.insert( 2, \"abcd\")\n",
    "lst"
   ]
  },
  {
   "cell_type": "code",
   "execution_count": 105,
   "id": "36c5145d-20d2-4d64-8414-7a85dbc2da8e",
   "metadata": {},
   "outputs": [
    {
     "ename": "TypeError",
     "evalue": "'str' object cannot be interpreted as an integer",
     "output_type": "error",
     "traceback": [
      "\u001b[1;31m---------------------------------------------------------------------------\u001b[0m",
      "\u001b[1;31mTypeError\u001b[0m                                 Traceback (most recent call last)",
      "Cell \u001b[1;32mIn[105], line 2\u001b[0m\n\u001b[0;32m      1\u001b[0m lst \u001b[38;5;241m=\u001b[39m [\u001b[38;5;241m10\u001b[39m, \u001b[38;5;241m20\u001b[39m, \u001b[38;5;241m30\u001b[39m, \u001b[38;5;241m40\u001b[39m, \u001b[38;5;241m50\u001b[39m]\n\u001b[1;32m----> 2\u001b[0m \u001b[43mlst\u001b[49m\u001b[38;5;241;43m.\u001b[39;49m\u001b[43minsert\u001b[49m\u001b[43m(\u001b[49m\u001b[38;5;124;43m\"\u001b[39;49m\u001b[38;5;124;43mabcd\u001b[39;49m\u001b[38;5;124;43m\"\u001b[39;49m\u001b[43m,\u001b[49m\u001b[43m \u001b[49m\u001b[38;5;241;43m2\u001b[39;49m\u001b[43m \u001b[49m\u001b[43m)\u001b[49m\n\u001b[0;32m      3\u001b[0m lst\n",
      "\u001b[1;31mTypeError\u001b[0m: 'str' object cannot be interpreted as an integer"
     ]
    }
   ],
   "source": [
    "lst = [10, 20, 30, 40, 50]\n",
    "lst.insert(\"abcd\", 2 )\n",
    "lst"
   ]
  },
  {
   "cell_type": "code",
   "execution_count": 106,
   "id": "2d5bb820-6e0e-4e23-b469-f3885d3bdf18",
   "metadata": {},
   "outputs": [
    {
     "name": "stdout",
     "output_type": "stream",
     "text": [
      "Help on built-in function insert:\n",
      "\n",
      "insert(index, object, /) method of builtins.list instance\n",
      "    Insert object before index.\n",
      "\n"
     ]
    }
   ],
   "source": [
    "help(lst.insert)"
   ]
  },
  {
   "cell_type": "markdown",
   "id": "9bc08b26-fa14-41b5-8fdc-b64e92d9054a",
   "metadata": {},
   "source": [
    "#### 2. Default Arguments"
   ]
  },
  {
   "cell_type": "code",
   "execution_count": 108,
   "id": "54b4bbe6-2cf4-4961-af29-b31f3b5c0ea1",
   "metadata": {},
   "outputs": [
    {
     "data": {
      "text/plain": [
       "'m*ss*ss*pp*'"
      ]
     },
     "execution_count": 108,
     "metadata": {},
     "output_type": "execute_result"
    }
   ],
   "source": [
    "strg = \"mississippi\"\n",
    "strg.replace(\"i\", \"*\")"
   ]
  },
  {
   "cell_type": "code",
   "execution_count": 109,
   "id": "d97f4ef3-54cf-42b3-a207-27549d84e25b",
   "metadata": {},
   "outputs": [
    {
     "data": {
      "text/plain": [
       "'m*ss*ssippi'"
      ]
     },
     "execution_count": 109,
     "metadata": {},
     "output_type": "execute_result"
    }
   ],
   "source": [
    "strg = \"mississippi\"\n",
    "strg.replace(\"i\", \"*\", 2)"
   ]
  },
  {
   "cell_type": "code",
   "execution_count": 110,
   "id": "0c0de67d-3e2b-4a24-ade7-fbdd2e4f8009",
   "metadata": {},
   "outputs": [
    {
     "name": "stdout",
     "output_type": "stream",
     "text": [
      "Help on built-in function replace:\n",
      "\n",
      "replace(old, new, count=-1, /) method of builtins.str instance\n",
      "    Return a copy with all occurrences of substring old replaced by new.\n",
      "\n",
      "      count\n",
      "        Maximum number of occurrences to replace.\n",
      "        -1 (the default value) means replace all occurrences.\n",
      "\n",
      "    If the optional argument count is given, only the first count occurrences are\n",
      "    replaced.\n",
      "\n"
     ]
    }
   ],
   "source": [
    "help(strg.replace)"
   ]
  },
  {
   "cell_type": "markdown",
   "id": "826e3336-1292-47e1-8c54-a60dd61f4c39",
   "metadata": {},
   "source": [
    "#### 3. Variable Length Argument"
   ]
  },
  {
   "cell_type": "code",
   "execution_count": 112,
   "id": "dc3419e9-b180-472d-9e5a-5c8348b79dac",
   "metadata": {},
   "outputs": [],
   "source": [
    "def demo(name, *args, age = 30) :\n",
    "    print(f\"Name - {name} and Age - {age}\")\n",
    "    print(\"args - \", args)"
   ]
  },
  {
   "cell_type": "code",
   "execution_count": 114,
   "id": "7e71c0f3-1399-4443-940f-aa5a1217432a",
   "metadata": {},
   "outputs": [
    {
     "name": "stdout",
     "output_type": "stream",
     "text": [
      "Name - jane and Age - 30\n",
      "args -  (50, 60, 70, 80, 90, 25)\n"
     ]
    }
   ],
   "source": [
    "demo(\"jane\", 50, 60, 70, 80, 90, 25)"
   ]
  },
  {
   "cell_type": "markdown",
   "id": "d0692446-4ee0-4fa8-94fd-8d3ca0feb2a1",
   "metadata": {},
   "source": [
    "#### 4. Key-word Argument"
   ]
  },
  {
   "cell_type": "code",
   "execution_count": 115,
   "id": "45f9a66d-ce7d-4a05-a9f8-468f7e0323e2",
   "metadata": {},
   "outputs": [
    {
     "name": "stdout",
     "output_type": "stream",
     "text": [
      "Name - jane and Age - 25\n",
      "args -  (50, 60, 70, 80, 90)\n"
     ]
    }
   ],
   "source": [
    "demo(\"jane\", 50, 60, 70, 80, 90, age = 25)"
   ]
  },
  {
   "cell_type": "code",
   "execution_count": 116,
   "id": "11c3094e-42b8-498a-9821-77cc7aa66fcb",
   "metadata": {},
   "outputs": [
    {
     "name": "stdout",
     "output_type": "stream",
     "text": [
      "Name - jane and Age - 25\n"
     ]
    }
   ],
   "source": [
    "def demo(name, age) :\n",
    "    print(f\"Name - {name} and Age - {age}\")\n",
    "demo(age = 25, name = \"jane\")"
   ]
  },
  {
   "cell_type": "markdown",
   "id": "f25cf99b-16ea-42b7-a6d1-afe25ad9cafb",
   "metadata": {},
   "source": [
    "#### 5. Variable Length Key-word Argument"
   ]
  },
  {
   "cell_type": "code",
   "execution_count": 117,
   "id": "b71a024a-eb4a-4810-9ac8-f9aeed8427eb",
   "metadata": {},
   "outputs": [],
   "source": [
    "def demo(name, *args, age = 30, **kwargs) :\n",
    "    print(f\"Name - {name} and Age - {age}\")\n",
    "    print(\"args - \", args)\n",
    "    print(\"kwargs - \", kwargs)"
   ]
  },
  {
   "cell_type": "code",
   "execution_count": 125,
   "id": "64d65ee9-c83a-4d33-9946-c334417aa1d7",
   "metadata": {},
   "outputs": [
    {
     "name": "stdout",
     "output_type": "stream",
     "text": [
      "Name - jane and Age - 25\n",
      "args -  (50, 60, 70, 80, 90)\n",
      "kwargs -  {'a': (10, 20, 30), 'b': 20}\n"
     ]
    }
   ],
   "source": [
    "demo(\"jane\", 50, 60, 70, 80, 90, age = 25, a = (10, 20, 30), b = 20)"
   ]
  },
  {
   "cell_type": "code",
   "execution_count": 121,
   "id": "021d09e4-92c5-40ea-a821-12d179fcf34d",
   "metadata": {},
   "outputs": [],
   "source": [
    "def data_to_file(name, gender, age):\n",
    "    with open(\"data.txt\", \"a\") as file :\n",
    "        file.write(f\"{name},{gender},{age}\\n\")\n",
    "    print(f\"Data for {name} is added to file\")"
   ]
  },
  {
   "cell_type": "code",
   "execution_count": 122,
   "id": "c67b3954-d4c5-436d-89b6-353d4c5af5fb",
   "metadata": {},
   "outputs": [
    {
     "name": "stdout",
     "output_type": "stream",
     "text": [
      "Data for Jane is added to file\n"
     ]
    }
   ],
   "source": [
    "data_to_file(\"Jane\", \"F\", 30)"
   ]
  },
  {
   "cell_type": "code",
   "execution_count": 126,
   "id": "2996f938-ef20-48b0-b039-25245321056b",
   "metadata": {},
   "outputs": [
    {
     "name": "stdout",
     "output_type": "stream",
     "text": [
      "Data for Rosie is added to file\n",
      "Data for George is added to file\n",
      "Data for Jack is added to file\n"
     ]
    }
   ],
   "source": [
    "employee = [(\"Rosie\", \"F\", 25),\n",
    "            (\"George\", \"M\", 30),\n",
    "            (\"Jack\", \"M\", 35)]\n",
    "\n",
    "for emp in employee :\n",
    "    data_to_file(*emp)"
   ]
  },
  {
   "cell_type": "markdown",
   "id": "6916adfc-8bab-4fcc-893b-1e810f6a58bc",
   "metadata": {},
   "source": [
    "- **`*`** - all the arguments after `*` must be `key-word` only arguments\n",
    "- **`/`** - all the arguments before `/` must be `positional-only` arguemnts"
   ]
  },
  {
   "cell_type": "code",
   "execution_count": 128,
   "id": "f7a5d00f-a736-4d7a-a135-ce0867b881b3",
   "metadata": {},
   "outputs": [
    {
     "name": "stdout",
     "output_type": "stream",
     "text": [
      "Name - Jane and Age - 25\n",
      "Name - jane and Age - 25\n",
      "Name - Jane and Age - 25\n"
     ]
    }
   ],
   "source": [
    "def demo(name, age) :\n",
    "    print(f\"Name - {name} and Age - {age}\")\n",
    "\n",
    "demo(\"Jane\", 25)  # positional\n",
    "demo(age = 25, name = \"jane\")  # key-word\n",
    "demo(\"Jane\", age = 25)  # positional and key-word"
   ]
  },
  {
   "cell_type": "code",
   "execution_count": 129,
   "id": "24138470-33aa-494d-8bd7-86e6fcfca0ae",
   "metadata": {},
   "outputs": [
    {
     "name": "stdout",
     "output_type": "stream",
     "text": [
      "Name - Jane and Age - 25\n"
     ]
    },
    {
     "ename": "TypeError",
     "evalue": "demo() got some positional-only arguments passed as keyword arguments: 'name, age'",
     "output_type": "error",
     "traceback": [
      "\u001b[1;31m---------------------------------------------------------------------------\u001b[0m",
      "\u001b[1;31mTypeError\u001b[0m                                 Traceback (most recent call last)",
      "Cell \u001b[1;32mIn[129], line 5\u001b[0m\n\u001b[0;32m      2\u001b[0m     \u001b[38;5;28mprint\u001b[39m(\u001b[38;5;124mf\u001b[39m\u001b[38;5;124m\"\u001b[39m\u001b[38;5;124mName - \u001b[39m\u001b[38;5;132;01m{\u001b[39;00mname\u001b[38;5;132;01m}\u001b[39;00m\u001b[38;5;124m and Age - \u001b[39m\u001b[38;5;132;01m{\u001b[39;00mage\u001b[38;5;132;01m}\u001b[39;00m\u001b[38;5;124m\"\u001b[39m)\n\u001b[0;32m      4\u001b[0m demo(\u001b[38;5;124m\"\u001b[39m\u001b[38;5;124mJane\u001b[39m\u001b[38;5;124m\"\u001b[39m, \u001b[38;5;241m25\u001b[39m)  \u001b[38;5;66;03m# positional\u001b[39;00m\n\u001b[1;32m----> 5\u001b[0m \u001b[43mdemo\u001b[49m\u001b[43m(\u001b[49m\u001b[43mage\u001b[49m\u001b[43m \u001b[49m\u001b[38;5;241;43m=\u001b[39;49m\u001b[43m \u001b[49m\u001b[38;5;241;43m25\u001b[39;49m\u001b[43m,\u001b[49m\u001b[43m \u001b[49m\u001b[43mname\u001b[49m\u001b[43m \u001b[49m\u001b[38;5;241;43m=\u001b[39;49m\u001b[43m \u001b[49m\u001b[38;5;124;43m\"\u001b[39;49m\u001b[38;5;124;43mjane\u001b[39;49m\u001b[38;5;124;43m\"\u001b[39;49m\u001b[43m)\u001b[49m  \u001b[38;5;66;03m# key-word\u001b[39;00m\n\u001b[0;32m      6\u001b[0m demo(\u001b[38;5;124m\"\u001b[39m\u001b[38;5;124mJane\u001b[39m\u001b[38;5;124m\"\u001b[39m, age \u001b[38;5;241m=\u001b[39m \u001b[38;5;241m25\u001b[39m)  \u001b[38;5;66;03m# positional and key-word\u001b[39;00m\n",
      "\u001b[1;31mTypeError\u001b[0m: demo() got some positional-only arguments passed as keyword arguments: 'name, age'"
     ]
    }
   ],
   "source": [
    "def demo(name, age, /) :  # name and age are positional-only\n",
    "    print(f\"Name - {name} and Age - {age}\")\n",
    "\n",
    "demo(\"Jane\", 25)  # positional\n",
    "demo(age = 25, name = \"jane\")  # key-word   (Error)\n",
    "demo(\"Jane\", age = 25)  # positional and key-word  (Error)"
   ]
  },
  {
   "cell_type": "code",
   "execution_count": 130,
   "id": "317a0040-75df-4cf7-b8b8-6801d4e572c0",
   "metadata": {},
   "outputs": [
    {
     "name": "stdout",
     "output_type": "stream",
     "text": [
      "Name - Jane and Age - 25\n",
      "Name - Jane and Age - 25\n"
     ]
    },
    {
     "ename": "TypeError",
     "evalue": "demo() got some positional-only arguments passed as keyword arguments: 'name'",
     "output_type": "error",
     "traceback": [
      "\u001b[1;31m---------------------------------------------------------------------------\u001b[0m",
      "\u001b[1;31mTypeError\u001b[0m                                 Traceback (most recent call last)",
      "Cell \u001b[1;32mIn[130], line 6\u001b[0m\n\u001b[0;32m      4\u001b[0m demo(\u001b[38;5;124m\"\u001b[39m\u001b[38;5;124mJane\u001b[39m\u001b[38;5;124m\"\u001b[39m, \u001b[38;5;241m25\u001b[39m)  \u001b[38;5;66;03m# positional\u001b[39;00m\n\u001b[0;32m      5\u001b[0m demo(\u001b[38;5;124m\"\u001b[39m\u001b[38;5;124mJane\u001b[39m\u001b[38;5;124m\"\u001b[39m, age \u001b[38;5;241m=\u001b[39m \u001b[38;5;241m25\u001b[39m)  \u001b[38;5;66;03m# positional and key-word \u001b[39;00m\n\u001b[1;32m----> 6\u001b[0m \u001b[43mdemo\u001b[49m\u001b[43m(\u001b[49m\u001b[43mage\u001b[49m\u001b[43m \u001b[49m\u001b[38;5;241;43m=\u001b[39;49m\u001b[43m \u001b[49m\u001b[38;5;241;43m25\u001b[39;49m\u001b[43m,\u001b[49m\u001b[43m \u001b[49m\u001b[43mname\u001b[49m\u001b[43m \u001b[49m\u001b[38;5;241;43m=\u001b[39;49m\u001b[43m \u001b[49m\u001b[38;5;124;43m\"\u001b[39;49m\u001b[38;5;124;43mjane\u001b[39;49m\u001b[38;5;124;43m\"\u001b[39;49m\u001b[43m)\u001b[49m  \u001b[38;5;66;03m# key-word   (Error)\u001b[39;00m\n",
      "\u001b[1;31mTypeError\u001b[0m: demo() got some positional-only arguments passed as keyword arguments: 'name'"
     ]
    }
   ],
   "source": [
    "def demo(name, /, age) :  # name is positional-only and age is key-word only\n",
    "    print(f\"Name - {name} and Age - {age}\")\n",
    "\n",
    "demo(\"Jane\", 25)  # positional\n",
    "demo(\"Jane\", age = 25)  # positional and key-word \n",
    "demo(age = 25, name = \"jane\")  # key-word   (Error)"
   ]
  },
  {
   "cell_type": "code",
   "execution_count": 132,
   "id": "859c71eb-1f6f-434f-b568-50ede0b50cce",
   "metadata": {},
   "outputs": [
    {
     "name": "stdout",
     "output_type": "stream",
     "text": [
      "Name - Jane and Age - 25\n",
      "Name - jane and Age - 25\n"
     ]
    }
   ],
   "source": [
    "def demo(name, *, age) :  # name is positional-only and age is key-word only\n",
    "    print(f\"Name - {name} and Age - {age}\")\n",
    "\n",
    "# demo(\"Jane\", 25)  # positional (Error)\n",
    "demo(\"Jane\", age = 25)  # positional and key-word \n",
    "demo(age = 25, name = \"jane\")  # key-word   "
   ]
  },
  {
   "cell_type": "code",
   "execution_count": 133,
   "id": "db7855e1-42df-4ce4-b7ef-ea6bfb781c5d",
   "metadata": {},
   "outputs": [
    {
     "name": "stdout",
     "output_type": "stream",
     "text": [
      "Name - Jane and Age - 25\n"
     ]
    },
    {
     "ename": "TypeError",
     "evalue": "demo() got some positional-only arguments passed as keyword arguments: 'name'",
     "output_type": "error",
     "traceback": [
      "\u001b[1;31m---------------------------------------------------------------------------\u001b[0m",
      "\u001b[1;31mTypeError\u001b[0m                                 Traceback (most recent call last)",
      "Cell \u001b[1;32mIn[133], line 6\u001b[0m\n\u001b[0;32m      4\u001b[0m \u001b[38;5;66;03m# demo(\"Jane\", 25)  # positional (Error)\u001b[39;00m\n\u001b[0;32m      5\u001b[0m demo(\u001b[38;5;124m\"\u001b[39m\u001b[38;5;124mJane\u001b[39m\u001b[38;5;124m\"\u001b[39m, age \u001b[38;5;241m=\u001b[39m \u001b[38;5;241m25\u001b[39m)  \u001b[38;5;66;03m# positional and key-word \u001b[39;00m\n\u001b[1;32m----> 6\u001b[0m \u001b[43mdemo\u001b[49m\u001b[43m(\u001b[49m\u001b[43mage\u001b[49m\u001b[43m \u001b[49m\u001b[38;5;241;43m=\u001b[39;49m\u001b[43m \u001b[49m\u001b[38;5;241;43m25\u001b[39;49m\u001b[43m,\u001b[49m\u001b[43m \u001b[49m\u001b[43mname\u001b[49m\u001b[43m \u001b[49m\u001b[38;5;241;43m=\u001b[39;49m\u001b[43m \u001b[49m\u001b[38;5;124;43m\"\u001b[39;49m\u001b[38;5;124;43mjane\u001b[39;49m\u001b[38;5;124;43m\"\u001b[39;49m\u001b[43m)\u001b[49m  \u001b[38;5;66;03m# key-word   (Error)\u001b[39;00m\n",
      "\u001b[1;31mTypeError\u001b[0m: demo() got some positional-only arguments passed as keyword arguments: 'name'"
     ]
    }
   ],
   "source": [
    "def demo(name, /, *, age) :  # name is positional-only and age is key-word only\n",
    "    print(f\"Name - {name} and Age - {age}\")\n",
    "\n",
    "# demo(\"Jane\", 25)  # positional (Error)\n",
    "demo(\"Jane\", age = 25)  # positional and key-word \n",
    "demo(age = 25, name = \"jane\")  # key-word   (Error)"
   ]
  },
  {
   "cell_type": "code",
   "execution_count": 135,
   "id": "58662533-babe-43fe-809f-1709bcc29b57",
   "metadata": {},
   "outputs": [
    {
     "name": "stdout",
     "output_type": "stream",
     "text": [
      "Help on built-in function sorted in module builtins:\n",
      "\n",
      "sorted(iterable, /, *, key=None, reverse=False)\n",
      "    Return a new list containing all items from the iterable in ascending order.\n",
      "\n",
      "    A custom key function can be supplied to customize the sort order, and the\n",
      "    reverse flag can be set to request the result in descending order.\n",
      "\n"
     ]
    }
   ],
   "source": [
    "help(sorted)"
   ]
  },
  {
   "cell_type": "code",
   "execution_count": 136,
   "id": "c4a47c69-f291-4f4a-b71c-869ba548bc98",
   "metadata": {},
   "outputs": [
    {
     "data": {
      "text/plain": [
       "[4, 3, 2, 1]"
      ]
     },
     "execution_count": 136,
     "metadata": {},
     "output_type": "execute_result"
    }
   ],
   "source": [
    "sorted([1, 3, 2, 4], reverse=True)"
   ]
  },
  {
   "cell_type": "markdown",
   "id": "b6cf81af-7e42-4bb7-b5ee-020cd4222bd2",
   "metadata": {},
   "source": [
    "### Function Object"
   ]
  },
  {
   "cell_type": "code",
   "execution_count": 137,
   "id": "9a55a452-f190-4a2f-96cb-db3dab12c5ef",
   "metadata": {},
   "outputs": [
    {
     "data": {
      "text/plain": [
       "4"
      ]
     },
     "execution_count": 137,
     "metadata": {},
     "output_type": "execute_result"
    }
   ],
   "source": [
    "len(\"Abcd\")  # function call"
   ]
  },
  {
   "cell_type": "code",
   "execution_count": 139,
   "id": "812d15dd-c55c-4d70-8f24-4a058c9a5da6",
   "metadata": {},
   "outputs": [
    {
     "data": {
      "text/plain": [
       "builtin_function_or_method"
      ]
     },
     "execution_count": 139,
     "metadata": {},
     "output_type": "execute_result"
    }
   ],
   "source": [
    "var = len  # function object\n",
    "type(var)"
   ]
  },
  {
   "cell_type": "code",
   "execution_count": 140,
   "id": "1df9039d-5919-4e56-bc1b-0ea813746739",
   "metadata": {},
   "outputs": [
    {
     "data": {
      "text/plain": [
       "4"
      ]
     },
     "execution_count": 140,
     "metadata": {},
     "output_type": "execute_result"
    }
   ],
   "source": [
    "var(\"Abcd\")"
   ]
  },
  {
   "cell_type": "code",
   "execution_count": 141,
   "id": "93daf19e-3675-4716-a563-5b89a442597e",
   "metadata": {},
   "outputs": [
    {
     "data": {
      "text/plain": [
       "['bike', 'car', 'flight', 'train']"
      ]
     },
     "execution_count": 141,
     "metadata": {},
     "output_type": "execute_result"
    }
   ],
   "source": [
    "lst = [\"train\", \"bike\", \"flight\", \"car\"]\n",
    "sorted(lst)"
   ]
  },
  {
   "cell_type": "code",
   "execution_count": 142,
   "id": "b302c54e-84f4-4183-81ff-f9d0124f7e64",
   "metadata": {},
   "outputs": [
    {
     "data": {
      "text/plain": [
       "['car', 'bike', 'train', 'flight']"
      ]
     },
     "execution_count": 142,
     "metadata": {},
     "output_type": "execute_result"
    }
   ],
   "source": [
    "sorted(lst, key = len)"
   ]
  },
  {
   "cell_type": "code",
   "execution_count": 143,
   "id": "db8ae2f3-e4f3-4018-a07a-1fcff8989e6f",
   "metadata": {},
   "outputs": [
    {
     "data": {
      "text/plain": [
       "['bike', 'train', 'car', 'flight']"
      ]
     },
     "execution_count": 143,
     "metadata": {},
     "output_type": "execute_result"
    }
   ],
   "source": [
    "sorted(lst, key = lambda strg : strg[-1])"
   ]
  },
  {
   "cell_type": "code",
   "execution_count": 144,
   "id": "950862aa-e283-4799-85d3-6c4e92cb6fdf",
   "metadata": {},
   "outputs": [
    {
     "data": {
      "text/plain": [
       "<function __main__.<lambda>(strg)>"
      ]
     },
     "execution_count": 144,
     "metadata": {},
     "output_type": "execute_result"
    }
   ],
   "source": [
    "var = lambda strg : strg[-1]\n",
    "var"
   ]
  },
  {
   "cell_type": "code",
   "execution_count": 146,
   "id": "7eb68307-9d4f-436a-b125-811e1a629ec7",
   "metadata": {},
   "outputs": [
    {
     "data": {
      "text/plain": [
       "'flight'"
      ]
     },
     "execution_count": 146,
     "metadata": {},
     "output_type": "execute_result"
    }
   ],
   "source": [
    "max(lst, key = len)"
   ]
  },
  {
   "cell_type": "code",
   "execution_count": 147,
   "id": "b719cfaa-f252-4e1a-bba8-80b504c76972",
   "metadata": {},
   "outputs": [
    {
     "data": {
      "text/plain": [
       "5"
      ]
     },
     "execution_count": 147,
     "metadata": {},
     "output_type": "execute_result"
    }
   ],
   "source": [
    "add = lambda a, b : a + b\n",
    "add(2, 3)"
   ]
  },
  {
   "cell_type": "markdown",
   "id": "081a0f39-7971-4ce0-966c-900849efc96f",
   "metadata": {},
   "source": [
    "###### Ex. WAP to sort the percentage dict by the values"
   ]
  },
  {
   "cell_type": "code",
   "execution_count": 170,
   "id": "9248e3e2-5ca0-409c-b14b-1d90566f23cd",
   "metadata": {},
   "outputs": [
    {
     "name": "stdout",
     "output_type": "stream",
     "text": [
      "--------------------\n",
      "SID \t Percentage\n",
      "--------------------\n",
      "105 \t 70.0%\n",
      "109 \t 67.33%\n",
      "101 \t 67.0%\n",
      "104 \t 64.0%\n",
      "106 \t 63.0%\n",
      "110 \t 60.33%\n",
      "107 \t 57.33%\n",
      "102 \t 56.67%\n",
      "103 \t 56.0%\n",
      "108 \t 52.33%\n"
     ]
    }
   ],
   "source": [
    "final_dict = dict(sorted(percentages.items(), key = lambda element : element[1], reverse=True))\n",
    "print(\"-\"*20)\n",
    "print(f\"SID \\t Percentage\")\n",
    "print(\"-\"*20)\n",
    "for sid, percent in final_dict.items() : \n",
    "    print(f\"{sid} \\t {percent}%\")"
   ]
  },
  {
   "cell_type": "code",
   "execution_count": 168,
   "id": "0dd58b12-6cd3-4d0a-8bde-70a3160ffb95",
   "metadata": {},
   "outputs": [],
   "source": []
  },
  {
   "cell_type": "code",
   "execution_count": null,
   "id": "0661400b-794e-48f2-ba9e-3110c8fac0a8",
   "metadata": {},
   "outputs": [],
   "source": []
  },
  {
   "cell_type": "code",
   "execution_count": null,
   "id": "6ae4df55-78ce-4a4a-81a4-e891b8de314e",
   "metadata": {},
   "outputs": [],
   "source": []
  },
  {
   "cell_type": "code",
   "execution_count": null,
   "id": "29fdc229-1838-4758-9f29-02274fc136bb",
   "metadata": {},
   "outputs": [],
   "source": []
  },
  {
   "cell_type": "code",
   "execution_count": null,
   "id": "6c391ddd-bc50-4490-923d-2b11c0982338",
   "metadata": {},
   "outputs": [],
   "source": []
  },
  {
   "cell_type": "code",
   "execution_count": null,
   "id": "dc8db481-3572-4292-bc4e-3895872a3158",
   "metadata": {},
   "outputs": [],
   "source": []
  },
  {
   "cell_type": "code",
   "execution_count": null,
   "id": "15cbc880-d5a5-401e-bd9b-e2c4aca69710",
   "metadata": {},
   "outputs": [],
   "source": []
  }
 ],
 "metadata": {
  "kernelspec": {
   "display_name": "Python 3 (ipykernel)",
   "language": "python",
   "name": "python3"
  },
  "language_info": {
   "codemirror_mode": {
    "name": "ipython",
    "version": 3
   },
   "file_extension": ".py",
   "mimetype": "text/x-python",
   "name": "python",
   "nbconvert_exporter": "python",
   "pygments_lexer": "ipython3",
   "version": "3.12.4"
  }
 },
 "nbformat": 4,
 "nbformat_minor": 5
}
