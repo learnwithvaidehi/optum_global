{
 "cells": [
  {
   "cell_type": "markdown",
   "metadata": {
    "id": "rGBb_xPwaQpK"
   },
   "source": [
    "# Introduction to Pandas Library\n",
    "- Pandas is an open source library in python which is know for its rich applications and utilities for all kinds of mathematical, financial and statistical functions\n",
    "- It is useful in data manipulation and analysis\n",
    "- It provides fast, flexible, and expressive data structures designed to make working with structured (tabular, multidimensional, potentially heterogeneous) and time series data\n",
    "\n"
   ]
  },
  {
   "cell_type": "markdown",
   "metadata": {
    "id": "QW77jDdEaQpK"
   },
   "source": [
    "#### Installing pandas"
   ]
  },
  {
   "cell_type": "code",
   "execution_count": null,
   "metadata": {
    "id": "A0uzVwWXaQpK"
   },
   "outputs": [],
   "source": [
    "!pip install pandas"
   ]
  },
  {
   "cell_type": "markdown",
   "metadata": {
    "id": "P-V030TIaQpL"
   },
   "source": [
    "#### Importing pandas"
   ]
  },
  {
   "cell_type": "code",
   "execution_count": null,
   "metadata": {
    "id": "1OwVfG7eaQpX"
   },
   "outputs": [],
   "source": [
    "import pandas as pd\n",
    "import numpy as np\n",
    "import matplotlib.pyplot as plt\n",
    "import seaborn as sns"
   ]
  },
  {
   "cell_type": "markdown",
   "metadata": {
    "id": "Xki7EbgdaQpX"
   },
   "source": [
    "# Series\n",
    "\n",
    "#### Series -\n",
    "\n",
    "   - are one-dimensional ndarray with axis labels (homogenous data)\n",
    "   - labels need not be unique but must be of immutable type\n",
    "\n"
   ]
  },
  {
   "cell_type": "markdown",
   "metadata": {
    "id": "F03kpEgEaQpX"
   },
   "source": [
    "### Creating Series"
   ]
  },
  {
   "cell_type": "markdown",
   "metadata": {
    "id": "f4G4uy-QaQpY"
   },
   "source": [
    "###### Ex. Create series using the given list of names"
   ]
  },
  {
   "cell_type": "code",
   "execution_count": null,
   "metadata": {
    "id": "kidwL0wBaQpY"
   },
   "outputs": [],
   "source": [
    "name = [\"Jack\", \"Jane\", \"Rosie\", \"George\", \"Sam\"]\n",
    "ser_names = pd.Series(name)\n",
    "ser_names"
   ]
  },
  {
   "cell_type": "markdown",
   "metadata": {
    "id": "ZZO8lFY1aQpY"
   },
   "source": [
    "### Extracting elements from series"
   ]
  },
  {
   "cell_type": "markdown",
   "metadata": {
    "id": "iaB4pNeuaQpY"
   },
   "source": [
    "#### Indexing based on index number"
   ]
  },
  {
   "cell_type": "code",
   "execution_count": null,
   "metadata": {
    "id": "Bupm0jbCaQpZ"
   },
   "outputs": [],
   "source": [
    "ser_names[0]"
   ]
  },
  {
   "cell_type": "code",
   "execution_count": null,
   "metadata": {},
   "outputs": [],
   "source": [
    "ser_names[0:3]"
   ]
  },
  {
   "cell_type": "markdown",
   "metadata": {
    "id": "MhTvrKT6aQpZ"
   },
   "source": [
    "#### Assigning names as index to marks"
   ]
  },
  {
   "cell_type": "code",
   "execution_count": null,
   "metadata": {},
   "outputs": [],
   "source": [
    "name = [\"Jack\", \"Jane\", \"Rosie\", \"George\", \"Sam\"]\n",
    "marks = pd.Series(np.random.randint(5, 20, size = 5), index=name)\n",
    "marks"
   ]
  },
  {
   "cell_type": "code",
   "execution_count": null,
   "metadata": {},
   "outputs": [],
   "source": [
    "name = [\"Jack\", \"Jane\", \"Rosie\", \"George\", \"Sam\"]\n",
    "marks = pd.Series(np.random.randint(5, 20, size = 5))\n",
    "marks.index = name\n",
    "marks"
   ]
  },
  {
   "cell_type": "markdown",
   "metadata": {
    "id": "JVyAnENwaQpZ"
   },
   "source": [
    "#### Indexing based on index name"
   ]
  },
  {
   "cell_type": "code",
   "execution_count": null,
   "metadata": {
    "id": "O3Thv2HSaQpZ"
   },
   "outputs": [],
   "source": [
    "marks[\"Jane\"]"
   ]
  },
  {
   "cell_type": "code",
   "execution_count": null,
   "metadata": {
    "id": "oDD_hBrdaQpa"
   },
   "outputs": [],
   "source": [
    "marks[\"Jane\" : \"George\"]"
   ]
  },
  {
   "cell_type": "markdown",
   "metadata": {
    "id": "EsPIdJQgaQpa"
   },
   "source": [
    "### Filtering Series / Conditional Indexing"
   ]
  },
  {
   "cell_type": "code",
   "execution_count": null,
   "metadata": {
    "id": "cXdKoje2aQpa"
   },
   "outputs": [],
   "source": [
    "marks[marks < 15]"
   ]
  },
  {
   "cell_type": "markdown",
   "metadata": {
    "id": "8RBog8TEaQpa"
   },
   "source": [
    "### Operations on Series"
   ]
  },
  {
   "cell_type": "code",
   "execution_count": null,
   "metadata": {
    "id": "olXqM-DJaQpa"
   },
   "outputs": [],
   "source": [
    "marks/20 * 100"
   ]
  },
  {
   "cell_type": "markdown",
   "metadata": {
    "id": "KTK3Ijh7aQpb"
   },
   "source": [
    "### Ranking and Sorting\n",
    "\n",
    "series.sort_values(`ascending=True`, `inplace=False`, `na_option = {\"first\",\"last\"}`) <br>\n",
    "series.sort_index(`ascending=True`, `inplace=False`)\n",
    "<br>\n",
    "series.rank(`ascending=False`, `method={\"average\",\"min\",\"dense\"}`, `na_option = {\"top\",\"bottom\"}`)"
   ]
  },
  {
   "cell_type": "code",
   "execution_count": null,
   "metadata": {
    "id": "6KGpwit4aQpb"
   },
   "outputs": [],
   "source": [
    "marks.sort_values(ascending=False, inplace=True)\n",
    "marks"
   ]
  },
  {
   "cell_type": "code",
   "execution_count": null,
   "metadata": {},
   "outputs": [],
   "source": [
    "marks.rank().astype(int)"
   ]
  },
  {
   "cell_type": "markdown",
   "metadata": {
    "id": "e2f4A3jTaQpb"
   },
   "source": [
    "### Working with NULLs"
   ]
  },
  {
   "cell_type": "code",
   "execution_count": null,
   "metadata": {
    "id": "sb6PRbSkaQpb"
   },
   "outputs": [],
   "source": [
    "name = [\"Jack\", \"Jane\", \"Rosie\", \"George\", \"Sam\"]\n",
    "marks = pd.Series(np.random.randint(5, 20, size = 5))\n",
    "marks.index = name\n",
    "marks"
   ]
  },
  {
   "cell_type": "code",
   "execution_count": null,
   "metadata": {},
   "outputs": [],
   "source": [
    "marks = pd.concat((marks, pd.Series([np.nan, np.nan], index = [\"Bill\", \"Thomas\"])))\n",
    "marks"
   ]
  },
  {
   "cell_type": "code",
   "execution_count": null,
   "metadata": {},
   "outputs": [],
   "source": [
    "marks.isna().any()"
   ]
  },
  {
   "cell_type": "code",
   "execution_count": null,
   "metadata": {},
   "outputs": [],
   "source": [
    "marks.isna().sum()"
   ]
  },
  {
   "cell_type": "code",
   "execution_count": null,
   "metadata": {},
   "outputs": [],
   "source": [
    "marks.fillna(0, inplace=True)"
   ]
  },
  {
   "cell_type": "markdown",
   "metadata": {
    "id": "9eUiWjfnaQpb"
   },
   "source": [
    "<hr><hr>"
   ]
  },
  {
   "cell_type": "markdown",
   "metadata": {
    "id": "47x11IZfaQpb"
   },
   "source": [
    "# Dataframe\n",
    "\n",
    "A DataFrame is two dimensional data structure where the data is arranged in the tabular format in rows and columns\n",
    "\n",
    "#### DataFrame features:\n",
    "\n",
    "- Columns can be of different data types\n",
    "- Size of dataframe can be changes\n",
    "- Axes(rows and columns) are labeled\n",
    "- Arithmetic operations can be performed on rows and columns"
   ]
  },
  {
   "cell_type": "markdown",
   "metadata": {
    "id": "XsuLFl42aQpc"
   },
   "source": [
    "### Creating Dataframes"
   ]
  },
  {
   "cell_type": "code",
   "execution_count": null,
   "metadata": {
    "id": "XU9yQthlaQpc"
   },
   "outputs": [],
   "source": [
    "employees = {\"Name\" : [\"Jack\", \"Bill\", \"Lizie\", \"Jane\", \"George\"],\n",
    "            \"Designation\" : [\"HR\", \"Manager\", \"Developer\", \"Intern\", \"Manager\"],\n",
    "            \"Salary\": [40000, 60000, 25000, 12000, 70000]}\n",
    "\n",
    "df = pd.DataFrame(employees)\n",
    "df"
   ]
  },
  {
   "cell_type": "markdown",
   "metadata": {
    "id": "2BTO39a_aQpc"
   },
   "source": [
    "### Accessing Dataframes"
   ]
  },
  {
   "cell_type": "code",
   "execution_count": null,
   "metadata": {
    "id": "vkbDFU-taQpc"
   },
   "outputs": [],
   "source": [
    "df[\"Name\"]"
   ]
  },
  {
   "cell_type": "code",
   "execution_count": null,
   "metadata": {
    "id": "vkbDFU-taQpc"
   },
   "outputs": [],
   "source": [
    "df.Name"
   ]
  },
  {
   "cell_type": "code",
   "execution_count": null,
   "metadata": {},
   "outputs": [],
   "source": [
    "df[[\"Name\", \"Salary\"]]"
   ]
  },
  {
   "cell_type": "markdown",
   "metadata": {
    "id": "xhttBDOzaQpd"
   },
   "source": [
    "### Operations on dataframes"
   ]
  },
  {
   "cell_type": "markdown",
   "metadata": {
    "id": "gxF17HubaQpd"
   },
   "source": [
    "###### Ex. Average Salary"
   ]
  },
  {
   "cell_type": "code",
   "execution_count": null,
   "metadata": {
    "id": "XORPMsvVaQpe"
   },
   "outputs": [],
   "source": [
    "df.Salary.mean()"
   ]
  },
  {
   "cell_type": "markdown",
   "metadata": {
    "id": "5uyCtQxraQpe"
   },
   "source": [
    "###### Ex. Average Salary of managers"
   ]
  },
  {
   "cell_type": "code",
   "execution_count": null,
   "metadata": {
    "id": "vEnS8bVnaQpe"
   },
   "outputs": [],
   "source": [
    "df[df.Designation == \"Manager\"].Salary.mean()"
   ]
  },
  {
   "cell_type": "markdown",
   "metadata": {
    "id": "2Kt24MypaQpe"
   },
   "source": [
    "### Concataneting and Merging Dataframes"
   ]
  },
  {
   "cell_type": "code",
   "execution_count": null,
   "metadata": {},
   "outputs": [],
   "source": [
    "df_jan = pd.DataFrame({\"Order ID\" : range(101, 111), \"Sales\" : np.random.randint(10000, 50000, 10)})\n",
    "df_feb = pd.DataFrame({\"Order ID\" : range(111, 121), \"Sales\" : np.random.randint(10000, 50000, 10)})\n",
    "df_mar = pd.DataFrame({\"Order ID\" : range(121, 131), \"Sales\" : np.random.randint(10000, 50000, 10)})"
   ]
  },
  {
   "cell_type": "markdown",
   "metadata": {
    "id": "CSGtWyPvaQpf"
   },
   "source": [
    "#### Concatenate\n",
    "pd.concat(`tuple of dfs`, `ignore_index = False`, `axis=0`)"
   ]
  },
  {
   "cell_type": "code",
   "execution_count": null,
   "metadata": {
    "id": "xOJ19ptzaQpf"
   },
   "outputs": [],
   "source": [
    "pd.concat((df_jan, df_feb, df_mar), ignore_index=True)"
   ]
  },
  {
   "cell_type": "code",
   "execution_count": null,
   "metadata": {
    "id": "xOJ19ptzaQpf"
   },
   "outputs": [],
   "source": [
    "pd.concat((df_jan, df_feb, df_mar),  axis=1)"
   ]
  },
  {
   "cell_type": "markdown",
   "metadata": {
    "id": "KQk4_kSdaQpf"
   },
   "source": [
    "#### Merging Dataframes\n",
    "\n",
    "`df1.merge(df2, how=\"\", left_on=\"\", right_on=\"\", left_index= \"\" , right_index=\"\")`"
   ]
  },
  {
   "cell_type": "code",
   "execution_count": null,
   "metadata": {
    "id": "p7S2LaPwaQpf"
   },
   "outputs": [],
   "source": [
    "df_emp = pd.DataFrame({\"Name\" : [\"Jack\", \"Bill\", \"Lizie\", \"Jane\", \"George\"],\n",
    "            \"Designation\" : [\"HR\", \"Manager\", \"Developer\", \"Intern\", \"Manager\"]})\n",
    "df_emp"
   ]
  },
  {
   "cell_type": "code",
   "execution_count": null,
   "metadata": {
    "id": "NTCO1HA9aQpf"
   },
   "outputs": [],
   "source": [
    "base_salaries = pd.DataFrame({\"Designation\" : [\"HR\", \"Developer\", \"Manager\", \"Senior Manager\"],\n",
    "            \"Salary\": [40000, 25000, 70000, 1000000]})\n",
    "base_salaries"
   ]
  },
  {
   "cell_type": "markdown",
   "metadata": {
    "id": "FEn8LGSQaQpf"
   },
   "source": [
    "#### Inner Merge"
   ]
  },
  {
   "cell_type": "code",
   "execution_count": null,
   "metadata": {
    "id": "-dfkvBy1aQpf"
   },
   "outputs": [],
   "source": [
    "df_emp.merge(base_salaries, how = \"inner\", on= \"Designation\")"
   ]
  },
  {
   "cell_type": "markdown",
   "metadata": {
    "id": "ItIkstn4aQpg"
   },
   "source": [
    "#### Left Merge"
   ]
  },
  {
   "cell_type": "code",
   "execution_count": null,
   "metadata": {
    "id": "VuonLUSPaQpg"
   },
   "outputs": [],
   "source": [
    "df_emp.merge(base_salaries, how = \"left\", on= \"Designation\")"
   ]
  },
  {
   "cell_type": "markdown",
   "metadata": {
    "id": "G2olAncNaQpg"
   },
   "source": [
    "#### Right Merge"
   ]
  },
  {
   "cell_type": "code",
   "execution_count": null,
   "metadata": {
    "id": "Zm7xmbCGaQpg"
   },
   "outputs": [],
   "source": [
    "df_emp.merge(base_salaries, how = \"right\", on= \"Designation\")"
   ]
  },
  {
   "cell_type": "markdown",
   "metadata": {
    "id": "hNpBKsrCaQpg"
   },
   "source": [
    "#### Outer Merge"
   ]
  },
  {
   "cell_type": "code",
   "execution_count": null,
   "metadata": {
    "id": "x1fbrsSGaQpg"
   },
   "outputs": [],
   "source": [
    "df_emp.merge(base_salaries, how = \"outer\", on= \"Designation\")"
   ]
  },
  {
   "cell_type": "markdown",
   "metadata": {
    "id": "Yho0mcMUaQph"
   },
   "source": [
    "## Reading data from Data Sources"
   ]
  },
  {
   "cell_type": "markdown",
   "metadata": {
    "id": "PWjVQ7v3aQpi"
   },
   "source": [
    "### Examples using Coffee Shop Dataset"
   ]
  },
  {
   "cell_type": "code",
   "execution_count": null,
   "metadata": {
    "id": "2sS81bMVaQpi"
   },
   "outputs": [],
   "source": [
    "import numpy as np\n",
    "import pandas as pd\n",
    "import matplotlib.pyplot as plt\n",
    "df = pd.read_csv(\"Datasets/coffee_sales.csv\", header=3)\n",
    "df.drop(columns=[df.columns[0]], inplace= True)\n",
    "df.fillna({\"Target Profit\" : \"0\"}, inplace=True)\n",
    "transobj = str.maketrans(\"\", \"\", \"$,\")\n",
    "df.Sales = df.Sales.str.translate(transobj).astype(float)\n",
    "df.Profit = df.Profit.str.translate(transobj).astype(float)\n",
    "df[\"Target Sales\"] = df[\"Target Sales\"].str.translate(transobj).astype(float)\n",
    "df[\"Target Profit\"] = df[\"Target Profit\"].str.translate(transobj).astype(float)\n",
    "df[\"Sales Target Status\"] = np.where(df.Sales > df[\"Target Sales\"], \"Achieved\", \"Not Achieved\")\n",
    "df.head()"
   ]
  },
  {
   "cell_type": "markdown",
   "metadata": {
    "id": "-SsECgH6aQpj"
   },
   "source": [
    "###### Ex. Read data from `coffee_sales.csv`"
   ]
  },
  {
   "cell_type": "code",
   "execution_count": null,
   "metadata": {
    "id": "mBAJGrV2aQpj"
   },
   "outputs": [],
   "source": [
    "df = pd.read_csv(\"Datasets/coffee_sales.csv\", header=3)\n",
    "df"
   ]
  },
  {
   "cell_type": "code",
   "execution_count": null,
   "metadata": {},
   "outputs": [],
   "source": [
    "df.columns"
   ]
  },
  {
   "cell_type": "markdown",
   "metadata": {
    "id": "oCaRpnewaQpk"
   },
   "source": [
    "### Drop a column or row from dataframe"
   ]
  },
  {
   "cell_type": "code",
   "execution_count": null,
   "metadata": {
    "id": "3_QOBOO9aQpl"
   },
   "outputs": [],
   "source": [
    "df.drop(columns=[df.columns[0]], inplace= True)\n",
    "df.head(2)"
   ]
  },
  {
   "cell_type": "markdown",
   "metadata": {
    "id": "eLCMw924aQpm"
   },
   "source": [
    "### Drop null rows\n",
    "df.dropna(`axis = 0`, `how = \"any\"`, `inplace = False`)\n",
    "- axis 0 for row or 1 for column\n",
    "- how - {any or all}"
   ]
  },
  {
   "cell_type": "code",
   "execution_count": null,
   "metadata": {
    "id": "319H3bxraQpm"
   },
   "outputs": [],
   "source": [
    "df.isna().any()"
   ]
  },
  {
   "cell_type": "code",
   "execution_count": null,
   "metadata": {},
   "outputs": [],
   "source": [
    "df.isna().sum()"
   ]
  },
  {
   "cell_type": "code",
   "execution_count": null,
   "metadata": {},
   "outputs": [],
   "source": [
    "df = pd.read_csv(\"Datasets/coffee_sales.csv\", header=3)\n",
    "df.dropna(how = \"all\", axis=1)"
   ]
  },
  {
   "cell_type": "code",
   "execution_count": null,
   "metadata": {},
   "outputs": [],
   "source": [
    "df.fillna({\"Target Profit\" : \"0\"}, inplace=True)\n",
    "df.head()"
   ]
  },
  {
   "cell_type": "code",
   "execution_count": null,
   "metadata": {},
   "outputs": [],
   "source": [
    "df.dtypes"
   ]
  },
  {
   "cell_type": "markdown",
   "metadata": {
    "id": "Wyt3gvJkaQpm"
   },
   "source": [
    "### Renaming a Columns"
   ]
  },
  {
   "cell_type": "markdown",
   "metadata": {
    "id": "SLFDWCNhaQpm"
   },
   "source": [
    "###### Rename Columns (column 5 - 8 are not accessible)"
   ]
  },
  {
   "cell_type": "code",
   "execution_count": null,
   "metadata": {
    "id": "2lFqRxSQaQpn"
   },
   "outputs": [],
   "source": [
    "df.columns = []"
   ]
  },
  {
   "cell_type": "markdown",
   "metadata": {
    "id": "ULHNtEg1aQpn"
   },
   "source": [
    "#### Rename Single Column"
   ]
  },
  {
   "cell_type": "code",
   "execution_count": null,
   "metadata": {
    "id": "Q1u76SjxaQpn"
   },
   "outputs": [],
   "source": [
    "df.rename({\"Franchise\" : \"Branch\"}, inplace=True, axis=1)\n",
    "df.head()"
   ]
  },
  {
   "cell_type": "markdown",
   "metadata": {
    "id": "0j71BjYoaQpn"
   },
   "source": [
    "### Understanding Data in Dataframe\n",
    "\n",
    "- `df.shape` - gives the size of the dataframe in the format (row_count x column_count)\n",
    "- `df.dtypes` - returns a Series with the data type of each column\n",
    "- `df.info()` - prints information about a DataFrame including the index dtype and columns, non-null values and memory usage\n",
    "- `df.head()` - prints the first 5 rows of you dataset including column header and the content of each row\n",
    "- `df.tail()` - prints the last 5 rows of you dataset including column header and the content of each row"
   ]
  },
  {
   "cell_type": "code",
   "execution_count": null,
   "metadata": {
    "id": "3qcO_FpVaQpn"
   },
   "outputs": [],
   "source": [
    "df.shape"
   ]
  },
  {
   "cell_type": "code",
   "execution_count": null,
   "metadata": {
    "id": "Ld93P56caQpn"
   },
   "outputs": [],
   "source": [
    "df.dtypes"
   ]
  },
  {
   "cell_type": "code",
   "execution_count": null,
   "metadata": {
    "id": "xfycjqXWaQpo"
   },
   "outputs": [],
   "source": [
    "df.info()"
   ]
  },
  {
   "cell_type": "code",
   "execution_count": null,
   "metadata": {
    "id": "9C86SjRmaQpo"
   },
   "outputs": [],
   "source": [
    "df.head()"
   ]
  },
  {
   "cell_type": "code",
   "execution_count": null,
   "metadata": {
    "id": "NOwl83yVaQpo"
   },
   "outputs": [],
   "source": [
    "df_coffee.head(3)"
   ]
  },
  {
   "cell_type": "code",
   "execution_count": null,
   "metadata": {
    "id": "fYRCzZUPaQpo"
   },
   "outputs": [],
   "source": [
    "df.tail()"
   ]
  },
  {
   "cell_type": "code",
   "execution_count": null,
   "metadata": {
    "id": "ATgfSROEaQpo"
   },
   "outputs": [],
   "source": [
    "df.tail(3)"
   ]
  },
  {
   "cell_type": "markdown",
   "metadata": {
    "id": "5CFMm1uUaQpp"
   },
   "source": [
    "### Cleaning data\n",
    "\n",
    "`df.apply()`"
   ]
  },
  {
   "cell_type": "markdown",
   "metadata": {
    "id": "eNb7M4fEaQpq"
   },
   "source": [
    "###### Ex. Converting Sales and Profits columns to float types"
   ]
  },
  {
   "cell_type": "code",
   "execution_count": null,
   "metadata": {
    "id": "7xRefZ0maQpq"
   },
   "outputs": [],
   "source": [
    "transobj = str.maketrans(\"\", \"\", \"$,\")\n",
    "\n",
    "df.Sales = df.Sales.str.translate(transobj).astype(float)\n",
    "df.Profit = df.Profit.str.translate(transobj).astype(float)\n",
    "df[\"Target Sales\"] = df[\"Target Sales\"].str.translate(transobj).astype(float)\n",
    "df[\"Target Profit\"] = df[\"Target Profit\"].str.translate(transobj).astype(float)"
   ]
  },
  {
   "cell_type": "code",
   "execution_count": null,
   "metadata": {},
   "outputs": [],
   "source": [
    "df.head(2)"
   ]
  },
  {
   "cell_type": "markdown",
   "metadata": {
    "id": "_eTN-WE8aQpq"
   },
   "source": [
    "### Working with **null** values\n",
    "\n",
    "`df.isna()` - Detect missing values. Return a boolean same-sized object indicating if the values are NA.\n",
    "\n",
    "`df.fillna(value=None, inplace=False)` - Fill NA/NaN values using the specified method."
   ]
  },
  {
   "cell_type": "code",
   "execution_count": null,
   "metadata": {
    "id": "m-vBFbslaQpq"
   },
   "outputs": [],
   "source": []
  },
  {
   "cell_type": "markdown",
   "metadata": {
    "id": "f97Zl37RaQpq"
   },
   "source": [
    "###### Ex. Identify Sales made by 'Caffe Latte'"
   ]
  },
  {
   "cell_type": "code",
   "execution_count": null,
   "metadata": {
    "id": "Cj1ObY9laQpq"
   },
   "outputs": [],
   "source": [
    "df[df.Product == 'Caffe Latte'].Sales.sum()"
   ]
  },
  {
   "cell_type": "markdown",
   "metadata": {
    "id": "DxivtiVmaQpr"
   },
   "source": [
    "### Removing Duplicate Data"
   ]
  },
  {
   "cell_type": "code",
   "execution_count": null,
   "metadata": {
    "id": "HC0RoOSPaQpr"
   },
   "outputs": [],
   "source": [
    "employees = {\"Name\" : [\"Jack\", \"Bill\", \"Lizie\", \"Jane\", \"George\"],\n",
    "            \"Designation\" : [\"HR\", \"Manager\", \"Developer\", \"Intern\", \"Manager\"],\n",
    "            \"Salary\": [40000, 60000, 25000, 12000, 70000]}\n",
    "\n",
    "df = pd.DataFrame(employees)\n",
    "df"
   ]
  },
  {
   "cell_type": "code",
   "execution_count": null,
   "metadata": {},
   "outputs": [],
   "source": [
    "df.drop_duplicates(subset=[\"Designation\"], keep = \"last\")"
   ]
  },
  {
   "cell_type": "markdown",
   "metadata": {
    "id": "EgteLlmQaQpr"
   },
   "source": [
    "### Replacing values\n",
    "\n",
    "df.replace(old_value, new_value, inplace=True)"
   ]
  },
  {
   "cell_type": "code",
   "execution_count": null,
   "metadata": {
    "id": "3AtOmRVHaQpr"
   },
   "outputs": [],
   "source": [
    "df.replace({\"Developer\" : \"Dev\"})"
   ]
  },
  {
   "cell_type": "markdown",
   "metadata": {
    "id": "5NZZ0mFhaQpr"
   },
   "source": [
    "### Adding a new Column by calculation"
   ]
  },
  {
   "cell_type": "markdown",
   "metadata": {
    "id": "HD0rBNHuaQps"
   },
   "source": [
    "###### Ex. Create columns showing `Sales` and `Profit` targets achieved"
   ]
  },
  {
   "cell_type": "code",
   "execution_count": null,
   "metadata": {
    "id": "q5yHUyFPaQps"
   },
   "outputs": [],
   "source": [
    "df[\"Sales Target Status\"] = np.where(df.Sales > df[\"Target Sales\"], \"Achieved\", \"Not Achieved\")\n",
    "df.head()"
   ]
  },
  {
   "cell_type": "markdown",
   "metadata": {
    "id": "OgMsCXjIaQps"
   },
   "source": [
    "###### Ex. Count the number times Targets are achieved"
   ]
  },
  {
   "cell_type": "code",
   "execution_count": null,
   "metadata": {
    "id": "9KcuJ_fraQps"
   },
   "outputs": [],
   "source": [
    "df[\"Sales Target Status\"].value_counts()"
   ]
  },
  {
   "cell_type": "code",
   "execution_count": null,
   "metadata": {
    "id": "9KcuJ_fraQps"
   },
   "outputs": [],
   "source": [
    "(df[\"Sales Target Status\"].value_counts(normalize=True) * 100).round(2).astype(str) + \"%\""
   ]
  },
  {
   "cell_type": "markdown",
   "metadata": {
    "id": "cBMGbqmsaQpt"
   },
   "source": [
    "### Creating a bar chart to view Target Status"
   ]
  },
  {
   "cell_type": "code",
   "execution_count": null,
   "metadata": {},
   "outputs": [],
   "source": [
    "data = df[\"Sales Target Status\"].value_counts()"
   ]
  },
  {
   "cell_type": "markdown",
   "metadata": {
    "id": "z_qXwtBxaQpt"
   },
   "source": [
    "#### using matplpotlib"
   ]
  },
  {
   "cell_type": "code",
   "execution_count": null,
   "metadata": {
    "id": "soNzjwLqaQpt"
   },
   "outputs": [],
   "source": [
    "plt.figure(figsize = (3, 2))\n",
    "plt.bar(data.index, data)"
   ]
  },
  {
   "cell_type": "markdown",
   "metadata": {
    "id": "TKon3pLvaQpu"
   },
   "source": [
    "#### using pandas"
   ]
  },
  {
   "cell_type": "code",
   "execution_count": null,
   "metadata": {
    "id": "1WfD5XyIaQpu"
   },
   "outputs": [],
   "source": [
    "data.plot(kind = \"bar\", figsize = (3, 2))"
   ]
  },
  {
   "cell_type": "markdown",
   "metadata": {
    "id": "uSofSsYRaQpu"
   },
   "source": [
    "#### using seaborn"
   ]
  },
  {
   "cell_type": "code",
   "execution_count": null,
   "metadata": {
    "id": "fiSLVyE6aQpu"
   },
   "outputs": [],
   "source": [
    "plt.figure(figsize = (3, 2))\n",
    "sns.countplot(data = df, x = \"Sales Target Status\")"
   ]
  },
  {
   "cell_type": "markdown",
   "metadata": {},
   "source": [
    "###### Ex. Create a column which checks for Profit, Loss and No Profit/Loss"
   ]
  },
  {
   "cell_type": "code",
   "execution_count": null,
   "metadata": {},
   "outputs": [],
   "source": [
    "conditions = [df.Profit > 0, df.Profit < 0, df.Profit == 0]\n",
    "results = [\"Profit\", \"Loss\", \"No Profit/Loss\"]\n",
    "df[\"Profit Status\"] = np.select(conditions, results, default=\"\")\n",
    "df.head()"
   ]
  },
  {
   "cell_type": "markdown",
   "metadata": {
    "id": "6V5ctOdOaQpv"
   },
   "source": [
    "### Setting and Resetting Index"
   ]
  },
  {
   "cell_type": "markdown",
   "metadata": {
    "id": "U9BowMzJaQpw"
   },
   "source": [
    "#### Seting Index\n",
    "`df.set_index(keys, drop=True, inplace=False,)`- Set the DataFrame index (row labels) using one or more existing columns or arrays (of the correct length). The index can replace the existing index or expand on it."
   ]
  },
  {
   "cell_type": "code",
   "execution_count": null,
   "metadata": {
    "id": "eolia_2-aQpw"
   },
   "outputs": [],
   "source": [
    "df.index"
   ]
  },
  {
   "cell_type": "code",
   "execution_count": null,
   "metadata": {},
   "outputs": [],
   "source": [
    "df.set_index(\"Franchise\", inplace = True)\n",
    "df.head()"
   ]
  },
  {
   "cell_type": "markdown",
   "metadata": {
    "id": "OZCzdxB8aQpw"
   },
   "source": [
    "#### Resetting Index\n",
    "\n",
    "`df.reset_index(level=None, drop=False, inplace=False,)` - Reset the index of the DataFrame, and use the default one instead. If the DataFrame has a MultiIndex, this method can remove one or more levels."
   ]
  },
  {
   "cell_type": "code",
   "execution_count": null,
   "metadata": {
    "id": "FpXI8MT4aQpw"
   },
   "outputs": [],
   "source": [
    "df.reset_index(drop=True)  # removes the column"
   ]
  },
  {
   "cell_type": "markdown",
   "metadata": {
    "id": "NJEY-IiWaQpx"
   },
   "source": [
    "### Indexing and Slicing using loc and iloc"
   ]
  },
  {
   "cell_type": "markdown",
   "metadata": {
    "id": "BeWuc1vkaQpy"
   },
   "source": [
    "#### Using loc to retrive data\n",
    "\n",
    "- loc is label-based\n",
    "- specify the name of the rows and columns that we need to filter out"
   ]
  },
  {
   "cell_type": "markdown",
   "metadata": {
    "id": "QOqVPSk4aQpz"
   },
   "source": [
    "###### Ex. Extract data for franchise M1"
   ]
  },
  {
   "cell_type": "code",
   "execution_count": null,
   "metadata": {},
   "outputs": [],
   "source": [
    "df1 = df.loc[df.Franchise.isin([\"M1\", \"M2\"])]"
   ]
  },
  {
   "cell_type": "code",
   "execution_count": null,
   "metadata": {},
   "outputs": [],
   "source": [
    "df1 = df[df.Product == \"Amaretto\"]\n",
    "df1.loc[:, \"Profit\"] = df1.Profit * 100"
   ]
  },
  {
   "cell_type": "code",
   "execution_count": null,
   "metadata": {
    "id": "r_ocjku2aQp0"
   },
   "outputs": [],
   "source": [
    "df.loc[[\"M1\", \"M2\"]]"
   ]
  },
  {
   "cell_type": "markdown",
   "metadata": {
    "id": "p2oj6oleaQp0"
   },
   "source": [
    "###### Ex. Extract `City` column"
   ]
  },
  {
   "cell_type": "code",
   "execution_count": null,
   "metadata": {
    "id": "-1rDjjGvaQp3"
   },
   "outputs": [],
   "source": [
    "df.loc[:, \"City\"]"
   ]
  },
  {
   "cell_type": "markdown",
   "metadata": {
    "id": "TwoQxDapaQp3"
   },
   "source": [
    "###### Ex. Extract `Sales` column for `Franchise - M1`"
   ]
  },
  {
   "cell_type": "code",
   "execution_count": null,
   "metadata": {
    "id": "YiWk3vZ1aQp3"
   },
   "outputs": [],
   "source": [
    "df.loc[\"M1\", \"Sales\"]"
   ]
  },
  {
   "cell_type": "markdown",
   "metadata": {
    "id": "-znDlfY6aQp4"
   },
   "source": [
    "###### Ex. Extract `Sales` and `Profit` column for `Franchise - 203, 504`"
   ]
  },
  {
   "cell_type": "code",
   "execution_count": null,
   "metadata": {
    "id": "mY4ttEqVaQp4"
   },
   "outputs": [],
   "source": [
    "df.loc[[\"M1\", \"M2\"], [\"Sales\", \"Profit\"]]"
   ]
  },
  {
   "cell_type": "code",
   "execution_count": null,
   "metadata": {},
   "outputs": [],
   "source": [
    "df.reset_index(inplace = True)"
   ]
  },
  {
   "cell_type": "markdown",
   "metadata": {
    "id": "cnODIqNgaQp4"
   },
   "source": [
    "#### Using iloc to retrive data\n",
    "\n",
    "- iloc is integer index-based\n",
    "- specify rows and columns by their integer index."
   ]
  },
  {
   "cell_type": "markdown",
   "metadata": {
    "id": "SIJgZdRqaQp5"
   },
   "source": [
    "###### Ex. Extract row at index 2"
   ]
  },
  {
   "cell_type": "code",
   "execution_count": null,
   "metadata": {
    "id": "8TQGTUumaQp5"
   },
   "outputs": [],
   "source": [
    "df.iloc[2].to_frame()"
   ]
  },
  {
   "cell_type": "markdown",
   "metadata": {
    "id": "kw_5pji2aQp5"
   },
   "source": [
    "###### Ex. Extract rows at index position 2,3,4"
   ]
  },
  {
   "cell_type": "code",
   "execution_count": null,
   "metadata": {
    "id": "QVyKK2JfaQp6"
   },
   "outputs": [],
   "source": [
    "df.iloc[[2, 3, 4]]"
   ]
  },
  {
   "cell_type": "code",
   "execution_count": null,
   "metadata": {
    "id": "QVyKK2JfaQp6"
   },
   "outputs": [],
   "source": [
    "df.iloc[2 : 5]  # Slicing using index position will not consider last value"
   ]
  },
  {
   "cell_type": "code",
   "execution_count": null,
   "metadata": {
    "id": "QVyKK2JfaQp6"
   },
   "outputs": [],
   "source": [
    "df.loc[2 : 5]  # Slicing using labels will consider last value"
   ]
  },
  {
   "cell_type": "markdown",
   "metadata": {
    "id": "gb9mRD3gaQp6"
   },
   "source": [
    "###### Ex. Extract column at index 0"
   ]
  },
  {
   "cell_type": "code",
   "execution_count": null,
   "metadata": {
    "id": "ouU8U3pPaQp6"
   },
   "outputs": [],
   "source": [
    "df.iloc[:, 0]"
   ]
  },
  {
   "cell_type": "markdown",
   "metadata": {
    "id": "kGAsH7QmaQp6"
   },
   "source": [
    "###### Ex. Extract column from index 0 to 2"
   ]
  },
  {
   "cell_type": "code",
   "execution_count": null,
   "metadata": {
    "id": "yhVG0N1faQp6"
   },
   "outputs": [],
   "source": [
    "df.iloc[:, 0:3]"
   ]
  },
  {
   "cell_type": "markdown",
   "metadata": {
    "id": "sHC-uVGuaQp7"
   },
   "source": [
    "###### Ex. Extra rows 0 to 2 and columns 0 to 2"
   ]
  },
  {
   "cell_type": "code",
   "execution_count": null,
   "metadata": {
    "id": "y6ARakhfaQp7"
   },
   "outputs": [],
   "source": [
    "df.iloc[0:3, 0:3]"
   ]
  },
  {
   "cell_type": "markdown",
   "metadata": {
    "id": "czcZLDWwaQp7"
   },
   "source": [
    "### Working with dates"
   ]
  },
  {
   "cell_type": "code",
   "execution_count": null,
   "metadata": {
    "id": "KRMBDDqvaQp7"
   },
   "outputs": [],
   "source": [
    "df.Date = pd.to_datetime(df.Date, format='mixed')\n",
    "df.head()"
   ]
  },
  {
   "cell_type": "markdown",
   "metadata": {
    "id": "j9maHWoUaQp7"
   },
   "source": [
    "#### Insert a column in between\n",
    "df.insert(`index`, `column_name`, `default_value`)"
   ]
  },
  {
   "cell_type": "markdown",
   "metadata": {
    "id": "dNRt8QUXaQp7"
   },
   "source": [
    "###### Create columns Year and Month - extract data using pd.DatetimeIndex"
   ]
  },
  {
   "cell_type": "code",
   "execution_count": null,
   "metadata": {
    "id": "vyc2GKmOaQp8"
   },
   "outputs": [],
   "source": [
    "df.insert(1, \"Year\", df.Date.dt)\n",
    "df.insert(2, \"Month\", df.Date.dt.month_name())\n",
    "df.head()"
   ]
  },
  {
   "cell_type": "code",
   "execution_count": null,
   "metadata": {},
   "outputs": [],
   "source": [
    "df.insert(2, \"Month#\", df.Date.dt.month)\n",
    "df.head()"
   ]
  },
  {
   "cell_type": "markdown",
   "metadata": {},
   "source": [
    "###### Identify for unique year in the data"
   ]
  },
  {
   "cell_type": "code",
   "execution_count": null,
   "metadata": {},
   "outputs": [],
   "source": [
    "df.Year.unique()"
   ]
  },
  {
   "cell_type": "markdown",
   "metadata": {
    "id": "mPIxAAueaQp-"
   },
   "source": [
    "###### Extract data for 2021"
   ]
  },
  {
   "cell_type": "code",
   "execution_count": null,
   "metadata": {},
   "outputs": [],
   "source": [
    "df[df.Date == \"2021\"]"
   ]
  },
  {
   "cell_type": "markdown",
   "metadata": {
    "id": "mPIxAAueaQp-"
   },
   "source": [
    "###### Extract data for Jan - 2021"
   ]
  },
  {
   "cell_type": "code",
   "execution_count": null,
   "metadata": {},
   "outputs": [],
   "source": [
    "df[df.Date == \"2021-01\"]"
   ]
  },
  {
   "cell_type": "markdown",
   "metadata": {
    "id": "mPIxAAueaQp-"
   },
   "source": [
    "###### Extract data for Jan - 2021 and 2022"
   ]
  },
  {
   "cell_type": "code",
   "execution_count": null,
   "metadata": {},
   "outputs": [],
   "source": [
    "df[df.Date.isin((\"2021-01\", \"2022-01\"))]"
   ]
  },
  {
   "cell_type": "code",
   "execution_count": null,
   "metadata": {},
   "outputs": [],
   "source": [
    "df[np.logical_and(df.Year.isin((2021, 2022)), df.Month == \"January\")]"
   ]
  },
  {
   "cell_type": "markdown",
   "metadata": {
    "id": "mPIxAAueaQp-"
   },
   "source": [
    "###### Extract data starting from April - 2023"
   ]
  },
  {
   "cell_type": "code",
   "execution_count": null,
   "metadata": {},
   "outputs": [],
   "source": [
    "df[df.Date > \"2023-04\"]"
   ]
  },
  {
   "cell_type": "markdown",
   "metadata": {
    "id": "mPIxAAueaQp-"
   },
   "source": [
    "###### Extract data from Jan-2021 to Apr-2022"
   ]
  },
  {
   "cell_type": "code",
   "execution_count": null,
   "metadata": {},
   "outputs": [],
   "source": [
    "df[df.Date.between(\"2021-01\", \"2022-04\")]"
   ]
  },
  {
   "cell_type": "markdown",
   "metadata": {
    "id": "VmKAkqglaQp-"
   },
   "source": [
    "### Ranking and Sorting Dataframes"
   ]
  },
  {
   "cell_type": "markdown",
   "metadata": {
    "id": "8oM-uFACaQp-"
   },
   "source": [
    "###### Ex. Rank the products in descending order of `Sales`"
   ]
  },
  {
   "cell_type": "code",
   "execution_count": null,
   "metadata": {
    "id": "raFIqSnnaQp-"
   },
   "outputs": [],
   "source": [
    "df[df.Sales.rank(ascending=False) == 1177]"
   ]
  },
  {
   "cell_type": "markdown",
   "metadata": {
    "id": "VNuIqM6aaQp-"
   },
   "source": [
    "###### Ex. Sort the data in ascending order of `Rank`"
   ]
  },
  {
   "cell_type": "code",
   "execution_count": null,
   "metadata": {
    "id": "Towhj6x8aQp-"
   },
   "outputs": [],
   "source": [
    "df.sort_values(\"Sales\", ascending=False)"
   ]
  },
  {
   "cell_type": "markdown",
   "metadata": {
    "id": "fPvpjhHdaQp_"
   },
   "source": [
    "### Grouping Dataframes"
   ]
  },
  {
   "cell_type": "markdown",
   "metadata": {
    "id": "fV4dbr1faQp_"
   },
   "source": [
    "##### `df.groupby(by=None, as_index=True, sort=True, dropna=True)`"
   ]
  },
  {
   "cell_type": "code",
   "execution_count": null,
   "metadata": {},
   "outputs": [],
   "source": [
    "df.groupby(\"Product\")[\"Sales\"].sum().plot(kind = \"bar\", figsize = (3, 2))"
   ]
  },
  {
   "cell_type": "code",
   "execution_count": null,
   "metadata": {},
   "outputs": [],
   "source": [
    "df.groupby(\"Product\")[[\"Sales\", \"Profit\"]].sum().plot(kind = \"bar\",  figsize = (3, 2))"
   ]
  },
  {
   "cell_type": "code",
   "execution_count": null,
   "metadata": {},
   "outputs": [],
   "source": [
    "data = df.groupby(\"Product\")[[\"Sales\", \"Profit\"]].sum().reset_index()\n",
    "data.plot(kind = \"bar\",  figsize = (3, 2))"
   ]
  },
  {
   "cell_type": "code",
   "execution_count": null,
   "metadata": {},
   "outputs": [],
   "source": [
    "df.groupby(\"Product\")[[\"Sales\", \"Profit\"]].mean().round(2)"
   ]
  },
  {
   "cell_type": "code",
   "execution_count": null,
   "metadata": {},
   "outputs": [],
   "source": [
    "df.groupby(\"Product\").agg({\"Sales\" : \"mean\", \"Profit\" : \"sum\"})"
   ]
  },
  {
   "cell_type": "code",
   "execution_count": null,
   "metadata": {},
   "outputs": [],
   "source": [
    "df.groupby(\"Product\").agg({\"Sales\" : [\"mean\", \"sum\"], \"Profit\" : \"sum\"}).round(2)"
   ]
  },
  {
   "cell_type": "code",
   "execution_count": null,
   "metadata": {},
   "outputs": [],
   "source": [
    "df.groupby([\"Year\", \"Month\"])[\"Sales\"].sum().to_frame().reset_index()"
   ]
  },
  {
   "cell_type": "code",
   "execution_count": null,
   "metadata": {},
   "outputs": [],
   "source": [
    "data = df.groupby(\"Month\")[\"Sales\"].sum().to_frame().reset_index()\n",
    "data.sort_values(\"Sales\", ascending=False)"
   ]
  },
  {
   "cell_type": "code",
   "execution_count": null,
   "metadata": {},
   "outputs": [],
   "source": [
    "data = df.groupby([\"Month#\",\"Month\"])[\"Sales\"].sum().to_frame().reset_index(level = [\"Month\"])\n",
    "data.sort_index()"
   ]
  },
  {
   "cell_type": "code",
   "execution_count": null,
   "metadata": {},
   "outputs": [],
   "source": [
    "data.index.name = None\n",
    "data"
   ]
  },
  {
   "cell_type": "markdown",
   "metadata": {
    "id": "zghj3tabaQqC"
   },
   "source": [
    "### Analysing Dataframes"
   ]
  },
  {
   "cell_type": "markdown",
   "metadata": {
    "id": "SjxYwGuEaQqD"
   },
   "source": [
    "**Descriptive statistics** deals with summarizing and describing the features of a dataset or sample. Descriptive statistics provides a summary of the main features of the data, including measures of central tendency, dispersion, shape, and relationships between variables.\n",
    "\n",
    "#### Measures of Central Tendency:\n",
    "    - Mean: The average value of the data points.\n",
    "    - Median: The middle value of the data when arranged in ascending order.\n",
    "    - Mode: The most frequently occurring value in the dataset.\n",
    "\n",
    "#### Measures of Dispersion:\n",
    "    - Range: The difference between the maximum and minimum values in the dataset.\n",
    "    - Variance: The average of the squared differences from the mean.\n",
    "    - Standard Deviation: The square root of the variance, representing the average deviation from the mean.\n",
    "\n",
    "#### Measures of Shape:\n",
    "    - Skewness: A measure of the asymmetry of the distribution.\n",
    "        - Positive skewness indicates a longer right tail and a concentration of data on the left side.\n",
    "        - Negative skewness indicates a longer left tail and a concentration of data on the right side.\n",
    "        - Skewness close to zero indicates approximate symmetry around the mean.\n",
    "\n",
    "    - Kurtosis: A measure of the \"peakedness\" or \"flatness\" of the distribution.\n",
    "        - Positive kurtosis indicates heavy tails and a sharp peak (leptokurtic).\n",
    "        - Negative kurtosis indicates light tails and a flat peak (platykurtic).\n",
    "        - A kurtosis of 0 indicates a distribution with similar tails to the normal distribution (mesokurtic).\n",
    "\n",
    "#### Frequency Distribution:\n",
    "    - Frequency table: A table that shows the frequency or count of each value in the dataset.\n",
    "    - Histogram: A graphical representation of the frequency distribution, showing the distribution of values in bins or intervals.\n",
    "\n",
    "#### Measures of Association:\n",
    "    - Correlation: A measure of the strength and direction of the linear relationship between two variables.\n",
    "    - Covariance: A measure of the joint variability between two variables."
   ]
  },
  {
   "cell_type": "markdown",
   "metadata": {
    "id": "60twSvCQaQqD"
   },
   "source": [
    "#### Summary Statistics"
   ]
  },
  {
   "cell_type": "markdown",
   "metadata": {
    "id": "1fMci3jjaQqD"
   },
   "source": [
    "`df.describe()` **- Generates descriptive statistics. Descriptive statistics include those that summarize the central tendency, dispersion and shape of a dataset’s distribution, excluding NaN values. Analyzes both numeric and object series, as well as DataFrame column sets of mixed data types. The output will vary depending on what is provided.**"
   ]
  },
  {
   "cell_type": "code",
   "execution_count": null,
   "metadata": {
    "id": "qQSgFRktaQqE"
   },
   "outputs": [],
   "source": [
    "data = df[[\"Sales\", \"Profit\"]]\n",
    "data.describe()"
   ]
  },
  {
   "cell_type": "code",
   "execution_count": null,
   "metadata": {
    "id": "qQSgFRktaQqE"
   },
   "outputs": [],
   "source": [
    "df.describe(include=\"object\")"
   ]
  },
  {
   "cell_type": "markdown",
   "metadata": {
    "id": "pRshZvV2aQqE"
   },
   "source": [
    "`df.value_counts(normalize = False)` **- returns a Series containing counts of unique rows in the DataFrame**"
   ]
  },
  {
   "cell_type": "code",
   "execution_count": null,
   "metadata": {
    "id": "9NQSSekiaQqG"
   },
   "outputs": [],
   "source": [
    "(df[\"Profit Status\"].value_counts(normalize=True) * 100).round(2)"
   ]
  },
  {
   "cell_type": "markdown",
   "metadata": {},
   "source": [
    "##### Setting default figure size"
   ]
  },
  {
   "cell_type": "code",
   "execution_count": null,
   "metadata": {},
   "outputs": [],
   "source": [
    "plt.rcParams['figure.figsize'] = (4, 3) "
   ]
  },
  {
   "cell_type": "markdown",
   "metadata": {
    "id": "_YBX7kAoaQqH"
   },
   "source": [
    "#### Histogram"
   ]
  },
  {
   "cell_type": "code",
   "execution_count": null,
   "metadata": {
    "id": "amIozsymaQqH"
   },
   "outputs": [],
   "source": [
    "_ = plt.hist(df.Sales, bins=20)"
   ]
  },
  {
   "cell_type": "code",
   "execution_count": null,
   "metadata": {},
   "outputs": [],
   "source": [
    "_ = df[\"Sales\"].plot(kind = \"hist\", bins = 20)"
   ]
  },
  {
   "cell_type": "code",
   "execution_count": null,
   "metadata": {},
   "outputs": [],
   "source": [
    "import seaborn as sns"
   ]
  },
  {
   "cell_type": "code",
   "execution_count": null,
   "metadata": {},
   "outputs": [],
   "source": [
    "_ = sns.histplot(data=df, x = \"Sales\", kde = True)\n",
    "plt.axvline(df[\"Sales\"].mean(), color = \"Green\", label = \"Mean\")\n",
    "plt.axvline(np.median(df[\"Sales\"]), color = \"Red\", label = \"Median\")\n",
    "plt.legend()"
   ]
  },
  {
   "cell_type": "code",
   "execution_count": null,
   "metadata": {},
   "outputs": [],
   "source": [
    "df[\"Sales\"].skew()"
   ]
  },
  {
   "cell_type": "code",
   "execution_count": null,
   "metadata": {},
   "outputs": [],
   "source": [
    "df[\"Sales\"].kurtosis()"
   ]
  },
  {
   "cell_type": "code",
   "execution_count": null,
   "metadata": {},
   "outputs": [],
   "source": [
    "_ = sns.histplot(data=df, x = \"Profit\", kde = True)\n",
    "plt.axvline(df[\"Profit\"].mean(), color = \"Green\", label = \"Mean\")\n",
    "plt.axvline(np.median(df[\"Profit\"]), color = \"Red\", label = \"Median\")\n",
    "plt.legend()"
   ]
  },
  {
   "cell_type": "code",
   "execution_count": null,
   "metadata": {},
   "outputs": [],
   "source": [
    "df[\"Profit\"].skew()"
   ]
  },
  {
   "cell_type": "code",
   "execution_count": null,
   "metadata": {},
   "outputs": [],
   "source": [
    "df[\"Profit\"].kurtosis()"
   ]
  },
  {
   "cell_type": "markdown",
   "metadata": {},
   "source": [
    "##### Note - \n",
    "\n",
    "- mode ~ median ~ mean - normally distributed\n",
    "- mode < median < mean - Right skewed\n",
    "- mode > median > mean - left skewed"
   ]
  },
  {
   "cell_type": "markdown",
   "metadata": {},
   "source": [
    "### Handling Outliers - \n",
    "\n",
    "#### `Z-Score Method:`\n",
    "\n",
    "- The z-score method involves calculating the z-score for each data point, which represents the number of standard deviations away from the mean.\n",
    "Data points with z-scores beyond a certain threshold (e.g., |z-score| > 3) are considered outliers and can be removed or treated separately.\n",
    "The z-score method is sensitive to the mean and standard deviation of the data, and it assumes that the data is normally distributed.\n",
    "This method is useful when the data is approximately normally distributed and when the goal is to identify outliers based on their deviation from the mean.\n",
    "\n",
    "#### `IQR Method:`\n",
    "\n",
    "- The IQR method involves calculating the interquartile range (IQR), which is the difference between the third quartile (Q3) and the first quartile (Q1) of the data.\n",
    "Outliers are defined as data points that fall below Q1 - 1.5 * IQR or above Q3 + 1.5 * IQR.\n",
    "The IQR method is robust to outliers and does not assume any specific distribution of the data.\n",
    "This method is useful when the data is skewed or not normally distributed, as it focuses on the middle 50% of the data and is less influenced by extreme values.\n",
    "In general, if the data is approximately normally distributed and the goal is to identify outliers based on their deviation from the mean, the z-score method may be more appropriate. On the other hand, if the data is skewed or not normally distributed, or if the goal is to identify outliers based on their relative position within the dataset, the IQR method may be a better choice."
   ]
  },
  {
   "cell_type": "markdown",
   "metadata": {
    "id": "R39aUaScaQqI"
   },
   "source": [
    "#### Box and Whisker Plot"
   ]
  },
  {
   "cell_type": "markdown",
   "metadata": {
    "id": "R4UHNA0waQqI"
   },
   "source": [
    "<img src = \"images/boxplot.jpg\" width = 800 align = left>\n"
   ]
  },
  {
   "cell_type": "code",
   "execution_count": null,
   "metadata": {},
   "outputs": [],
   "source": [
    "df.Sales.describe()"
   ]
  },
  {
   "cell_type": "code",
   "execution_count": null,
   "metadata": {},
   "outputs": [],
   "source": [
    "Q1 = np.percentile(df.Sales, 25)\n",
    "Q3 = np.percentile(df.Sales, 75)\n",
    "IQR = Q3 - Q1\n",
    "min_w = Q1 - 1.5 * IQR\n",
    "max_w = Q3 + 1.5 * IQR\n",
    "\n",
    "sns.boxplot(data = df, y = \"Sales\")\n",
    "plt.axhline(Q1, color = \"Green\")\n",
    "plt.axhline(Q3, color = \"Green\")\n",
    "plt.axhline(min_w, color = \"Red\")\n",
    "plt.axhline(max_w, color = \"Red\")"
   ]
  },
  {
   "cell_type": "code",
   "execution_count": null,
   "metadata": {},
   "outputs": [],
   "source": [
    "data = df[df.Sales.between(min_w, max_w)]"
   ]
  },
  {
   "cell_type": "code",
   "execution_count": null,
   "metadata": {},
   "outputs": [],
   "source": [
    "sns.histplot(data = data, x = \"Sales\", kde = True)"
   ]
  },
  {
   "cell_type": "code",
   "execution_count": null,
   "metadata": {},
   "outputs": [],
   "source": [
    "sns.boxplot(data = data, y = \"Sales\")"
   ]
  },
  {
   "cell_type": "markdown",
   "metadata": {},
   "source": [
    "#### Z-Score Method"
   ]
  },
  {
   "cell_type": "code",
   "execution_count": null,
   "metadata": {},
   "outputs": [],
   "source": [
    "df.Sales.std()"
   ]
  },
  {
   "cell_type": "code",
   "execution_count": null,
   "metadata": {},
   "outputs": [],
   "source": [
    "(df.Sales - df.Sales.mean())/df.Sales.std()"
   ]
  },
  {
   "cell_type": "code",
   "execution_count": null,
   "metadata": {},
   "outputs": [],
   "source": [
    "import scipy.stats as stats\n",
    "\n",
    "zscores = stats.zscore(df.Sales)"
   ]
  },
  {
   "cell_type": "code",
   "execution_count": null,
   "metadata": {},
   "outputs": [],
   "source": [
    "sns.histplot(zscores, kde = True)\n",
    "plt.axvline(zscores.mean(), color = \"Red\")"
   ]
  },
  {
   "cell_type": "code",
   "execution_count": null,
   "metadata": {},
   "outputs": [],
   "source": [
    "df.Sales[zscores.abs() < 3]"
   ]
  },
  {
   "cell_type": "markdown",
   "metadata": {},
   "source": [
    "## Data Analysis on Employee dataset"
   ]
  },
  {
   "cell_type": "code",
   "execution_count": null,
   "metadata": {},
   "outputs": [],
   "source": [
    "df_emp = pd.read_csv(\"employees.csv\")\n",
    "df_emp.rename({\"Owns Car\" : \"Car\"}, inplace=True, axis = 1)\n",
    "df_emp.drop(columns=[\"Name\"], inplace=True)\n",
    "df_emp.head(2)"
   ]
  },
  {
   "cell_type": "markdown",
   "metadata": {},
   "source": [
    "#### Types of Variables - \n",
    "- **Features:** Features, also known as independent variables or input variables, are the attributes or characteristics of the data that are used as input to the machine learning model to make predictions. Features represent the variables that the model learns from to make predictions or classifications. Each feature can be either numerical or categorical and may have different scales or levels of measurement.\n",
    "\n",
    "- **Labels:** Labels, also known as target variables or dependent variables, are the outputs or predictions that the machine learning model aims to predict based on the input features. Labels represent the target variable that the model is trying to learn or predict. In supervised learning tasks, the labels are typically known for a subset of the data, and the goal is to train the model to accurately predict the labels for unseen data."
   ]
  },
  {
   "cell_type": "markdown",
   "metadata": {},
   "source": [
    "### Univariate Analysis\n",
    "Univariate analysis is a statistical method used to describe and analyze data consisting of only one variable. It focuses on understanding the characteristics and distribution of a single variable without considering the relationship with other variables.\n",
    "\n",
    "- Descriptive Statistics\n",
    "- Frequency Distribution\n",
    "- Measures of Central Tendency\n",
    "- Measures of Dispersion\n",
    "- Visualization:\n",
    "    - Box plots: Displaying the distribution of data using quartiles.\n",
    "    - Histograms: Showing the frequency distribution of continuous variables.\n",
    "    - Bar charts: Displaying the frequency distribution of categorical variables.\n",
    "- Probability Distribution:\n",
    "  - Normal distribution: Assessing if the data follows a normal distribution using graphical methods or statistical tests."
   ]
  },
  {
   "cell_type": "code",
   "execution_count": null,
   "metadata": {},
   "outputs": [],
   "source": [
    "num_cols = df_emp.select_dtypes(include = \"number\").columns\n",
    "num_cols"
   ]
  },
  {
   "cell_type": "code",
   "execution_count": null,
   "metadata": {},
   "outputs": [],
   "source": [
    "object_cols = df_emp.select_dtypes(include = \"object\").columns\n",
    "object_cols"
   ]
  },
  {
   "cell_type": "markdown",
   "metadata": {},
   "source": [
    "**For numeric columns -**\n",
    "\n",
    "1. df.describe()\n",
    "2. histogram, skew, kurt - distribution\n",
    "3. boxplot or outlier analysis\n",
    "\n",
    "**For Categorial columns -**\n",
    "1. value_counts(), sns.countplot()\n",
    "2. df.describe(include= \"object\")"
   ]
  },
  {
   "cell_type": "code",
   "execution_count": null,
   "metadata": {},
   "outputs": [],
   "source": [
    "_ = sns.countplot(data = df_emp, x = \"Car\")"
   ]
  },
  {
   "cell_type": "code",
   "execution_count": null,
   "metadata": {},
   "outputs": [],
   "source": [
    "_ = sns.countplot(data = df_emp, x = \"Gender\", hue = \"Car\" )"
   ]
  },
  {
   "cell_type": "code",
   "execution_count": null,
   "metadata": {},
   "outputs": [],
   "source": [
    "new_values = {'Manager' : \"Mgr\", 'Team Lead' : \"TL\", 'Senior Manager' : \"SM\", 'Developer' : \"Dev\",\n",
    "       'Managing Director': \"MD\"}\n",
    "desg = df_emp.Designation.map(new_values)\n",
    "_ = sns.countplot(data = df_emp, x = desg, hue = \"Car\" )"
   ]
  },
  {
   "cell_type": "markdown",
   "metadata": {},
   "source": [
    "### Bivariate Analysis\n",
    "\n",
    "Bivariate analysis is a statistical method used to analyze the relationship between two variables simultaneously. \n",
    "\n",
    "#### Numerical-Numerical Analysis:\n",
    "\n",
    "- Scatter Plots: Scatter plots with a regression line can show the relationship between two continuous variables. Each data point represents a combination of values from both variables.\n",
    "\n",
    "- Correlation Analysis: Quantifies the strength and direction of the linear relationship between two continuous variables. Pearson correlation coefficient (r) measures the degree of linear association between variables. \n",
    "\t- It ranges from -1 to 1, where:\n",
    "\t- r = 1: Perfect positive correlation\n",
    "\t- r = -1: Perfect negative correlation\n",
    "\t- r = 0: No correlation\n",
    "\n",
    "#### Categorical-Categorical Analysis:\n",
    "\n",
    "- Contingency tables (also known as cross-tabulations) display the frequency distribution of categories for two categorical variables. \n",
    "\n",
    "- Chi-square test assesses the independence or association between two categorical variables.\n",
    "\n",
    "#### Categorical-Numerical Analysis:\n",
    "\n",
    "- Box plots or bar charts with groupings display the distribution of a numerical variable across different categories of a categorical variable.\n",
    "\n",
    "- ANOVA (Analysis of Variance) tests the equality of means across different categories of a categorical variable.\n"
   ]
  },
  {
   "cell_type": "markdown",
   "metadata": {},
   "source": [
    "**Numeric-Numeric**"
   ]
  },
  {
   "cell_type": "code",
   "execution_count": null,
   "metadata": {},
   "outputs": [],
   "source": [
    "df_emp.head()"
   ]
  },
  {
   "cell_type": "code",
   "execution_count": null,
   "metadata": {},
   "outputs": [],
   "source": [
    "_ = sns.scatterplot(data=df_emp, x = \"Salary\", y = \"Age\")"
   ]
  },
  {
   "cell_type": "code",
   "execution_count": null,
   "metadata": {},
   "outputs": [],
   "source": [
    "_ = sns.lmplot(data=df_emp, x = \"Salary\", y = \"Age\")"
   ]
  },
  {
   "cell_type": "code",
   "execution_count": null,
   "metadata": {},
   "outputs": [],
   "source": [
    "_ = sns.pairplot(df_emp)"
   ]
  },
  {
   "cell_type": "code",
   "execution_count": null,
   "metadata": {},
   "outputs": [],
   "source": [
    "df_emp[num_cols].corr()"
   ]
  },
  {
   "cell_type": "code",
   "execution_count": null,
   "metadata": {},
   "outputs": [],
   "source": [
    "_ = sns.heatmap(df_emp[num_cols].corr(), annot=True)"
   ]
  },
  {
   "cell_type": "markdown",
   "metadata": {},
   "source": [
    "**Numeric-Categorial**"
   ]
  },
  {
   "cell_type": "code",
   "execution_count": null,
   "metadata": {},
   "outputs": [],
   "source": [
    "_ = sns.barplot(data = df_emp, x = desg, y = \"Salary\")  # default- mean"
   ]
  },
  {
   "cell_type": "code",
   "execution_count": 226,
   "metadata": {},
   "outputs": [
    {
     "data": {
      "image/png": "[encoded data removed]",
      "text/plain": [
       "<Figure size 400x300 with 1 Axes>"
      ]
     },
     "metadata": {},
     "output_type": "display_data"
    }
   ],
   "source": [
    "_ = sns.barplot(data = df_emp, x = desg, y = \"Salary\", estimator = \"sum\")  "
   ]
  },
  {
   "cell_type": "markdown",
   "metadata": {},
   "source": [
    "#### ANOVA (Analysis of Variance)\n",
    "\n",
    "The ANOVA test has important assumptions that must be satisfied in order for the associated p-value to be valid.\n",
    "\n",
    "- The samples are independent.\n",
    "- Each sample is from a normally distributed population.\n",
    "- The population standard deviations of the groups are all equal. This property is known as homoscedasticity.\n",
    "\n",
    "#### f-statistics\n",
    "\n",
    "The F-statistic, also known as the F-ratio or F-value, is a statistical measure used in analysis of variance (ANOVA) and regression analysis. It is a ratio of two variances and is used to assess whether the means of two or more groups are significantly different from each other.\n",
    "\n",
    "The F-statistic is calculated by dividing the variance between group means by the variance within groups. It is used to test the null hypothesis that the means of the groups are equal. A larger F-statistic indicates a larger difference between group means relative to the variation within groups, which suggests that the difference is more likely to be statistically significant\n",
    ".\n",
    "#### p-value\n",
    "The p-value, or probability value, is a measure that helps determine the significance of the results in statistical hypothesis testing. It represents the probability of obtaining an observed result (or more extreme) under the assumption that the null hypothesis is true.\n",
    "\n",
    "The range of possible p-values is between 0 and 1. Here's what different ranges of p-values typically indicate:\n",
    "\n",
    "- p ≤ 0.05: Usually considered statistically significant. This means that there is strong evidence against the null hypothesis, and it is likely to be rejected. The results are unlikely to occur by chance alone.\n",
    "\n",
    "- 0.05 < p ≤ 0.10: Marginally significant. The evidence against the null hypothesis is weaker compared to p ≤ 0.05, but it may still be worth considering depending on the context and specific requirements of the analysis.\n",
    "\n",
    "- 0.10 < p ≤ 0.50: Not statistically significant. There is insufficient evidence to reject the null hypothesis at the commonly used significance level of α = 0.05. The results are not considered to be statistically meaningful or reliable.\n",
    "\n",
    "- p > 0.50: Highly likely to occur by chance. This range of p-values suggests that the observed result is not unusual or significant. The null hypothesis cannot be rejected based on this evidence."
   ]
  },
  {
   "cell_type": "markdown",
   "metadata": {},
   "source": [
    "**Null Hypothesis(𝐻o) :There is no significant difference in the mean salary among the different designations.**\n",
    "\n",
    "𝐻o : 𝜇1 = 𝜇2 = 𝜇3 = … = 𝜇𝑘\n",
    "\n",
    "**Alternate Hypothesis(𝐻1):There is a significant difference in the mean salary between the two designation groups.**\n",
    "\n",
    "𝐻1 : 𝜇1 ≠ 𝜇2 ≠ 𝜇3 ≠ … ≠ 𝜇𝑘\n",
    "\n",
    "where: \n",
    " - 𝜇1,𝜇2,𝜇3,…,𝜇𝑘  are the population means of salary for each designation group.\n",
    " - 𝑘 is the number of designation groups."
   ]
  },
  {
   "cell_type": "code",
   "execution_count": 239,
   "metadata": {},
   "outputs": [],
   "source": [
    "def print_result(alpha, p_value, ho, ha):\n",
    "    if p_value < alpha:\n",
    "        print(\"Reject the null hypothesis.\", ha)\n",
    "    else:\n",
    "        print(\"Fail to reject the null hypothesis.\", ho)"
   ]
  },
  {
   "cell_type": "code",
   "execution_count": 240,
   "metadata": {},
   "outputs": [
    {
     "name": "stdout",
     "output_type": "stream",
     "text": [
      "Reject the null hypothesis. There is a significant difference in the mean salary between the two designation groups.\n"
     ]
    }
   ],
   "source": [
    "ho = \"There is no significant difference in the mean salary among the different designations.\"\n",
    "ha = \"There is a significant difference in the mean salary between the two designation groups.\"\n",
    "\n",
    "desg = df_emp.Designation.unique()\n",
    "grps = [df_emp[df_emp.Designation == d].Salary for d in desg]\n",
    "\n",
    "f_stat, p_value = stats.f_oneway(*grps)\n",
    "\n",
    "print_result(0.05, p_value, ho, ha)"
   ]
  },
  {
   "cell_type": "markdown",
   "metadata": {},
   "source": [
    "**Categorical-Categorical**"
   ]
  },
  {
   "cell_type": "code",
   "execution_count": 243,
   "metadata": {},
   "outputs": [
    {
     "data": {
      "text/html": [
       "<div>\n",
       "<style scoped>\n",
       "    .dataframe tbody tr th:only-of-type {\n",
       "        vertical-align: middle;\n",
       "    }\n",
       "\n",
       "    .dataframe tbody tr th {\n",
       "        vertical-align: top;\n",
       "    }\n",
       "\n",
       "    .dataframe thead th {\n",
       "        text-align: right;\n",
       "    }\n",
       "</style>\n",
       "<table border=\"1\" class=\"dataframe\">\n",
       "  <thead>\n",
       "    <tr style=\"text-align: right;\">\n",
       "      <th>Car</th>\n",
       "      <th>No</th>\n",
       "      <th>Yes</th>\n",
       "    </tr>\n",
       "    <tr>\n",
       "      <th>Gender</th>\n",
       "      <th></th>\n",
       "      <th></th>\n",
       "    </tr>\n",
       "  </thead>\n",
       "  <tbody>\n",
       "    <tr>\n",
       "      <th>Female</th>\n",
       "      <td>2</td>\n",
       "      <td>7</td>\n",
       "    </tr>\n",
       "    <tr>\n",
       "      <th>Male</th>\n",
       "      <td>8</td>\n",
       "      <td>13</td>\n",
       "    </tr>\n",
       "  </tbody>\n",
       "</table>\n",
       "</div>"
      ],
      "text/plain": [
       "Car     No  Yes\n",
       "Gender         \n",
       "Female   2    7\n",
       "Male     8   13"
      ]
     },
     "execution_count": 243,
     "metadata": {},
     "output_type": "execute_result"
    }
   ],
   "source": [
    "contingency_matrix = pd.crosstab(df_emp.Gender, df_emp.Car)\n",
    "contingency_matrix"
   ]
  },
  {
   "cell_type": "markdown",
   "metadata": {},
   "source": [
    "#### Chi-square\n",
    "\n",
    "The chi-square test is a statistical test used to determine whether there is a significant association between two categorical variables. It is commonly used to analyze contingency tables, which display the frequency distributions of categorical variables in a cross-tabulation format.\n",
    "\n",
    "- Formulation of Hypotheses:\n",
    "    - Null Hypothesis (H0): There is no association between the categorical variables.\n",
    "    - Alternative Hypothesis (H1): There is an association between the categorical variables.\n",
    "      \n",
    "- Calculation of Expected Frequencies:\n",
    "    - Calculate the expected frequencies for each cell in the contingency table under the assumption that the variables are independent (i.e., if the null hypothesis is true).\n",
    "    - Expected frequency = (row total * column total) / total number of observations\n",
    "\n",
    "- Calculation of Test Statistic:\n",
    "    - Summation of ((Oi - Ei) ** 2 / Ei), where Oi is observerd frequency and Ei is expected frequency\n",
    "\n",
    "- Determination of Degrees of Freedom:\n",
    "    - Degrees of freedom = (number of rows - 1) * (number of columns - 1)\n",
    "\n",
    "- Interpretation of Results:\n",
    "    - Compare the calculated chi-square test statistic to the critical value from the chi-square distribution table at a specified significance level (usually α = 0.05).\n",
    "        - If the calculated chi-square statistic exceeds the critical value, reject the null hypothesis and conclude that there is a significant association between the categorical variables.\n",
    "        - If the calculated chi-square statistic does not exceed the critical value, fail to reject the null hypothesis, and conclude that there is no significant association between the categorical variables."
   ]
  },
  {
   "cell_type": "code",
   "execution_count": 245,
   "metadata": {},
   "outputs": [
    {
     "data": {
      "text/plain": [
       "Chi2ContingencyResult(statistic=np.float64(0.17857142857142855), pvalue=np.float64(0.6726038174415168), dof=1, expected_freq=array([[ 3.,  6.],\n",
       "       [ 7., 14.]]))"
      ]
     },
     "execution_count": 245,
     "metadata": {},
     "output_type": "execute_result"
    }
   ],
   "source": [
    "stats.chi2_contingency(contingency_matrix)"
   ]
  },
  {
   "cell_type": "code",
   "execution_count": 250,
   "metadata": {},
   "outputs": [
    {
     "name": "stdout",
     "output_type": "stream",
     "text": [
      "Reject the null hypothesis. There is significant association between gender and car\n"
     ]
    }
   ],
   "source": [
    "Ho = \"There is no association between gender and car\"\n",
    "Ha = \"There is significant association between gender and car\"\n",
    "contingency_matrix = pd.crosstab(df_emp.Gender, df_emp.Car)\n",
    "p_value = stats.chi2_contingency(contingency_matrix).pvalue\n",
    "print_result(p_value, 0.05, Ho, Ha)"
   ]
  },
  {
   "cell_type": "code",
   "execution_count": null,
   "metadata": {},
   "outputs": [],
   "source": []
  },
  {
   "cell_type": "code",
   "execution_count": null,
   "metadata": {},
   "outputs": [],
   "source": []
  },
  {
   "cell_type": "code",
   "execution_count": null,
   "metadata": {},
   "outputs": [],
   "source": []
  },
  {
   "cell_type": "markdown",
   "metadata": {
    "id": "2NaScWc7aQo-"
   },
   "source": [
    "<br><br><br><br><br><br><br><br><br><br><br><br>"
   ]
  },
  {
   "cell_type": "code",
   "execution_count": null,
   "metadata": {
    "id": "OfujEAlUaQqL"
   },
   "outputs": [],
   "source": []
  }
 ],
 "metadata": {
  "colab": {
   "provenance": []
  },
  "kernelspec": {
   "display_name": "Python 3 (ipykernel)",
   "language": "python",
   "name": "python3"
  },
  "language_info": {
   "codemirror_mode": {
    "name": "ipython",
    "version": 3
   },
   "file_extension": ".py",
   "mimetype": "text/x-python",
   "name": "python",
   "nbconvert_exporter": "python",
   "pygments_lexer": "ipython3",
   "version": "3.12.4"
  }
 },
 "nbformat": 4,
 "nbformat_minor": 4
}
